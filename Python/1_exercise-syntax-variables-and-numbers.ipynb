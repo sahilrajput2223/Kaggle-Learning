{
 "cells": [
  {
   "cell_type": "markdown",
   "id": "8d7f8f05",
   "metadata": {
    "papermill": {
     "duration": 0.02196,
     "end_time": "2021-08-04T18:03:36.947050",
     "exception": false,
     "start_time": "2021-08-04T18:03:36.925090",
     "status": "completed"
    },
    "tags": []
   },
   "source": [
    "**This notebook is an exercise in the [Python](https://www.kaggle.com/learn/python) course.  You can reference the tutorial at [this link](https://www.kaggle.com/colinmorris/hello-python).**\n",
    "\n",
    "---\n"
   ]
  },
  {
   "cell_type": "markdown",
   "id": "dda66479",
   "metadata": {
    "papermill": {
     "duration": 0.019853,
     "end_time": "2021-08-04T18:03:36.987595",
     "exception": false,
     "start_time": "2021-08-04T18:03:36.967742",
     "status": "completed"
    },
    "tags": []
   },
   "source": [
    "Welcome to your first set of Python coding problems.  If this is your first time using Kaggle Notebooks, welcome! \n",
    "\n",
    "Notebooks are composed of blocks (called \"cells\") of text and code. Each of these is editable, though you'll mainly be editing the code cells to answer some questions.\n",
    "\n",
    "To get started, try running the code cell below (by pressing the ► button, or clicking on the cell and pressing ctrl+enter on your keyboard)."
   ]
  },
  {
   "cell_type": "code",
   "execution_count": 1,
   "id": "db718f5b",
   "metadata": {
    "execution": {
     "iopub.execute_input": "2021-08-04T18:03:37.031925Z",
     "iopub.status.busy": "2021-08-04T18:03:37.030772Z",
     "iopub.status.idle": "2021-08-04T18:03:37.042529Z",
     "shell.execute_reply": "2021-08-04T18:03:37.041760Z",
     "shell.execute_reply.started": "2021-08-04T17:54:29.216735Z"
    },
    "papermill": {
     "duration": 0.034984,
     "end_time": "2021-08-04T18:03:37.042686",
     "exception": false,
     "start_time": "2021-08-04T18:03:37.007702",
     "status": "completed"
    },
    "tags": []
   },
   "outputs": [
    {
     "name": "stdout",
     "output_type": "stream",
     "text": [
      "You've successfully run some Python code\n",
      "Congratulations!\n"
     ]
    }
   ],
   "source": [
    "print(\"You've successfully run some Python code\")\n",
    "print(\"Congratulations!\")"
   ]
  },
  {
   "cell_type": "markdown",
   "id": "2d204c4f",
   "metadata": {
    "papermill": {
     "duration": 0.020392,
     "end_time": "2021-08-04T18:03:37.084063",
     "exception": false,
     "start_time": "2021-08-04T18:03:37.063671",
     "status": "completed"
    },
    "tags": []
   },
   "source": [
    "Try adding another line of code in the cell above and re-running it. \n",
    "\n",
    "Now let's get a little fancier:  Add a new code cell by clicking on an existing code cell, hitting the escape key, and then hitting the `a` or `b` key.  The `a` key will add a cell above the current cell, and `b` adds a cell below.\n",
    "\n",
    "Great! Now you know how to use Notebooks.\n",
    "\n",
    "Each hands-on exercise starts by setting up our feedback and code checking mechanism. Run the code cell below to do that. Then you'll be ready to move on to question 0."
   ]
  },
  {
   "cell_type": "code",
   "execution_count": 2,
   "id": "8a8305af",
   "metadata": {
    "_kg_hide-input": true,
    "_kg_hide-output": true,
    "execution": {
     "iopub.execute_input": "2021-08-04T18:03:37.131254Z",
     "iopub.status.busy": "2021-08-04T18:03:37.130569Z",
     "iopub.status.idle": "2021-08-04T18:03:37.260166Z",
     "shell.execute_reply": "2021-08-04T18:03:37.261105Z",
     "shell.execute_reply.started": "2021-08-04T17:54:40.528780Z"
    },
    "papermill": {
     "duration": 0.155551,
     "end_time": "2021-08-04T18:03:37.261312",
     "exception": false,
     "start_time": "2021-08-04T18:03:37.105761",
     "status": "completed"
    },
    "tags": []
   },
   "outputs": [
    {
     "name": "stdout",
     "output_type": "stream",
     "text": [
      "Setup complete! You're ready to start question 0.\n"
     ]
    }
   ],
   "source": [
    "from learntools.core import binder; binder.bind(globals())\n",
    "from learntools.python.ex1 import *\n",
    "print(\"Setup complete! You're ready to start question 0.\")"
   ]
  },
  {
   "cell_type": "markdown",
   "id": "7cdba50d",
   "metadata": {
    "papermill": {
     "duration": 0.020681,
     "end_time": "2021-08-04T18:03:37.303320",
     "exception": false,
     "start_time": "2021-08-04T18:03:37.282639",
     "status": "completed"
    },
    "tags": []
   },
   "source": [
    "# 0.\n",
    "\n",
    "*This is a silly question intended as an introduction to the format we use for hands-on exercises throughout all Kaggle courses.*\n",
    "\n",
    "**What is your favorite color? **\n",
    "\n",
    "To complete this question, create a variable called `color` in the cell below with an appropriate value. The function call `q0.check()` (which we've already provided in the cell below) will check your answer."
   ]
  },
  {
   "cell_type": "code",
   "execution_count": 3,
   "id": "be5d58d0",
   "metadata": {
    "execution": {
     "iopub.execute_input": "2021-08-04T18:03:37.357399Z",
     "iopub.status.busy": "2021-08-04T18:03:37.356269Z",
     "iopub.status.idle": "2021-08-04T18:03:37.360903Z",
     "shell.execute_reply": "2021-08-04T18:03:37.361420Z",
     "shell.execute_reply.started": "2021-08-04T17:57:25.147885Z"
    },
    "papermill": {
     "duration": 0.036519,
     "end_time": "2021-08-04T18:03:37.361591",
     "exception": false,
     "start_time": "2021-08-04T18:03:37.325072",
     "status": "completed"
    },
    "tags": []
   },
   "outputs": [
    {
     "name": "stdout",
     "output_type": "stream",
     "text": [
      "blue\n"
     ]
    }
   ],
   "source": [
    "color = \"blue\"\n",
    "print(color)"
   ]
  },
  {
   "cell_type": "code",
   "execution_count": 4,
   "id": "a9d07de7",
   "metadata": {
    "execution": {
     "iopub.execute_input": "2021-08-04T18:03:37.420035Z",
     "iopub.status.busy": "2021-08-04T18:03:37.419349Z",
     "iopub.status.idle": "2021-08-04T18:03:37.429566Z",
     "shell.execute_reply": "2021-08-04T18:03:37.429067Z",
     "shell.execute_reply.started": "2021-08-04T17:57:25.867039Z"
    },
    "papermill": {
     "duration": 0.040224,
     "end_time": "2021-08-04T18:03:37.429710",
     "exception": false,
     "start_time": "2021-08-04T18:03:37.389486",
     "status": "completed"
    },
    "tags": []
   },
   "outputs": [
    {
     "data": {
      "application/javascript": [
       "parent.postMessage({\"jupyterEvent\": \"custom.exercise_interaction\", \"data\": {\"outcomeType\": 1, \"valueTowardsCompletion\": 0.25, \"interactionType\": 1, \"questionType\": 2, \"questionId\": \"0_ExerciseFormatTutorial\", \"learnToolsVersion\": \"0.3.4\", \"failureMessage\": \"\", \"exceptionClass\": \"\", \"trace\": \"\"}}, \"*\")"
      ],
      "text/plain": [
       "<IPython.core.display.Javascript object>"
      ]
     },
     "metadata": {},
     "output_type": "display_data"
    },
    {
     "data": {
      "text/markdown": [
       "<span style=\"color:#33cc33\">Correct:</span> What?! You got it right without needing a hint or anything? Drats. Well hey, you should still continue to the next step to get some practice asking for a hint and checking solutions. (Even though you obviously don't need any help here.)"
      ],
      "text/plain": [
       "Correct: What?! You got it right without needing a hint or anything? Drats. Well hey, you should still continue to the next step to get some practice asking for a hint and checking solutions. (Even though you obviously don't need any help here.)"
      ]
     },
     "metadata": {},
     "output_type": "display_data"
    }
   ],
   "source": [
    "# create a variable called color with an appropriate value on the line below\n",
    "# (Remember, strings in Python must be enclosed in 'single' or \"double\" quotes)\n",
    "____\n",
    "\n",
    "# Check your answer\n",
    "q0.check()"
   ]
  },
  {
   "cell_type": "markdown",
   "id": "5fbde4ad",
   "metadata": {
    "papermill": {
     "duration": 0.022025,
     "end_time": "2021-08-04T18:03:37.474196",
     "exception": false,
     "start_time": "2021-08-04T18:03:37.452171",
     "status": "completed"
    },
    "tags": []
   },
   "source": [
    "Didn't get the right answer? How do you not even know your own favorite color?!\n",
    "\n",
    "Delete the `#` in the line below to make one of the lines run. You can choose between getting a hint or the full answer by choosing which line to remove the `#` from. \n",
    "\n",
    "Removing the `#` is called uncommenting, because it changes that line from a \"comment\" which Python doesn't run to code, which Python does run."
   ]
  },
  {
   "cell_type": "code",
   "execution_count": 5,
   "id": "396d3660",
   "metadata": {
    "execution": {
     "iopub.execute_input": "2021-08-04T18:03:37.523002Z",
     "iopub.status.busy": "2021-08-04T18:03:37.522355Z",
     "iopub.status.idle": "2021-08-04T18:03:37.524107Z",
     "shell.execute_reply": "2021-08-04T18:03:37.524680Z",
     "shell.execute_reply.started": "2021-08-04T17:57:37.708877Z"
    },
    "papermill": {
     "duration": 0.028392,
     "end_time": "2021-08-04T18:03:37.524853",
     "exception": false,
     "start_time": "2021-08-04T18:03:37.496461",
     "status": "completed"
    },
    "tags": []
   },
   "outputs": [],
   "source": [
    "#q0.hint()\n",
    "#q0.solution()"
   ]
  },
  {
   "cell_type": "markdown",
   "id": "e89941da",
   "metadata": {
    "papermill": {
     "duration": 0.021717,
     "end_time": "2021-08-04T18:03:37.568670",
     "exception": false,
     "start_time": "2021-08-04T18:03:37.546953",
     "status": "completed"
    },
    "tags": []
   },
   "source": [
    "The upcoming questions work the same way. The only thing that will change are the question numbers. For the next question, you'll call `q1.check()`, `q1.hint()`, `q1.solution()`, for question 2, you'll call `q2.check()`, and so on."
   ]
  },
  {
   "cell_type": "markdown",
   "id": "87b84384",
   "metadata": {
    "papermill": {
     "duration": 0.021713,
     "end_time": "2021-08-04T18:03:37.612672",
     "exception": false,
     "start_time": "2021-08-04T18:03:37.590959",
     "status": "completed"
    },
    "tags": []
   },
   "source": [
    "<hr/>\n",
    "\n",
    "# 1.\n",
    "\n",
    "Complete the code below. In case it's helpful, here is the table of available arithmetic operations:\n",
    "\n",
    "\n",
    "\n",
    "| Operator     | Name           | Description                                            |\n",
    "|--------------|----------------|--------------------------------------------------------|\n",
    "| ``a + b``    | Addition       | Sum of ``a`` and ``b``                                 |\n",
    "| ``a - b``    | Subtraction    | Difference of ``a`` and ``b``                          |\n",
    "| ``a * b``    | Multiplication | Product of ``a`` and ``b``                             |\n",
    "| ``a / b``    | True division  | Quotient of ``a`` and ``b``                            |\n",
    "| ``a // b``   | Floor division | Quotient of ``a`` and ``b``, removing fractional parts |\n",
    "| ``a % b``    | Modulus        | Integer remainder after division of ``a`` by ``b``     |\n",
    "| ``a ** b``   | Exponentiation | ``a`` raised to the power of ``b``                     |\n",
    "| ``-a``       | Negation       | The negative of ``a``                                  |\n",
    "\n",
    "<span style=\"display:none\"></span>\n"
   ]
  },
  {
   "cell_type": "code",
   "execution_count": 6,
   "id": "28bfb84d",
   "metadata": {
    "execution": {
     "iopub.execute_input": "2021-08-04T18:03:37.659783Z",
     "iopub.status.busy": "2021-08-04T18:03:37.659187Z",
     "iopub.status.idle": "2021-08-04T18:03:37.666342Z",
     "shell.execute_reply": "2021-08-04T18:03:37.666833Z",
     "shell.execute_reply.started": "2021-08-04T17:59:11.468750Z"
    },
    "papermill": {
     "duration": 0.032215,
     "end_time": "2021-08-04T18:03:37.667022",
     "exception": false,
     "start_time": "2021-08-04T18:03:37.634807",
     "status": "completed"
    },
    "tags": []
   },
   "outputs": [
    {
     "data": {
      "application/javascript": [
       "parent.postMessage({\"jupyterEvent\": \"custom.exercise_interaction\", \"data\": {\"outcomeType\": 1, \"valueTowardsCompletion\": 0.25, \"interactionType\": 1, \"questionType\": 1, \"questionId\": \"1_CircleArea\", \"learnToolsVersion\": \"0.3.4\", \"failureMessage\": \"\", \"exceptionClass\": \"\", \"trace\": \"\"}}, \"*\")"
      ],
      "text/plain": [
       "<IPython.core.display.Javascript object>"
      ]
     },
     "metadata": {},
     "output_type": "display_data"
    },
    {
     "data": {
      "text/markdown": [
       "<span style=\"color:#33cc33\">Correct</span>"
      ],
      "text/plain": [
       "Correct"
      ]
     },
     "metadata": {},
     "output_type": "display_data"
    }
   ],
   "source": [
    "pi = 3.14159 # approximate\n",
    "diameter = 3\n",
    "\n",
    "# Create a variable called 'radius' equal to half the diameter\n",
    "____\n",
    "radius = diameter / 2\n",
    "# Create a variable called 'area', using the formula for the area of a circle: pi times the radius squared\n",
    "____\n",
    "area = pi * (radius ** 2)\n",
    "\n",
    "# Check your answer\n",
    "q1.check()"
   ]
  },
  {
   "cell_type": "code",
   "execution_count": 7,
   "id": "0c209d74",
   "metadata": {
    "execution": {
     "iopub.execute_input": "2021-08-04T18:03:37.716959Z",
     "iopub.status.busy": "2021-08-04T18:03:37.716361Z",
     "iopub.status.idle": "2021-08-04T18:03:37.719445Z",
     "shell.execute_reply": "2021-08-04T18:03:37.719979Z"
    },
    "papermill": {
     "duration": 0.029533,
     "end_time": "2021-08-04T18:03:37.720142",
     "exception": false,
     "start_time": "2021-08-04T18:03:37.690609",
     "status": "completed"
    },
    "tags": []
   },
   "outputs": [],
   "source": [
    "# Uncomment and run the lines below if you need help.\n",
    "#q1.hint()\n",
    "#q1.solution()"
   ]
  },
  {
   "cell_type": "markdown",
   "id": "4cc940a4",
   "metadata": {
    "papermill": {
     "duration": 0.023051,
     "end_time": "2021-08-04T18:03:37.767403",
     "exception": false,
     "start_time": "2021-08-04T18:03:37.744352",
     "status": "completed"
    },
    "tags": []
   },
   "source": [
    "<hr/>\n",
    "\n",
    "# 2.\n",
    "\n",
    "Add code to the following cell to swap variables `a` and `b` (so that `a` refers to the object previously referred to by `b` and vice versa)."
   ]
  },
  {
   "cell_type": "code",
   "execution_count": 8,
   "id": "a829d026",
   "metadata": {
    "execution": {
     "iopub.execute_input": "2021-08-04T18:03:37.825892Z",
     "iopub.status.busy": "2021-08-04T18:03:37.825185Z",
     "iopub.status.idle": "2021-08-04T18:03:37.834432Z",
     "shell.execute_reply": "2021-08-04T18:03:37.833889Z",
     "shell.execute_reply.started": "2021-08-04T17:59:36.872022Z"
    },
    "papermill": {
     "duration": 0.043703,
     "end_time": "2021-08-04T18:03:37.834570",
     "exception": false,
     "start_time": "2021-08-04T18:03:37.790867",
     "status": "completed"
    },
    "tags": []
   },
   "outputs": [
    {
     "data": {
      "application/javascript": [
       "parent.postMessage({\"jupyterEvent\": \"custom.exercise_interaction\", \"data\": {\"outcomeType\": 1, \"valueTowardsCompletion\": 0.25, \"interactionType\": 1, \"questionType\": 2, \"questionId\": \"2_VariableSwap\", \"learnToolsVersion\": \"0.3.4\", \"failureMessage\": \"\", \"exceptionClass\": \"\", \"trace\": \"\"}}, \"*\")"
      ],
      "text/plain": [
       "<IPython.core.display.Javascript object>"
      ]
     },
     "metadata": {},
     "output_type": "display_data"
    },
    {
     "data": {
      "text/markdown": [
       "<span style=\"color:#33cc33\">Correct:</span> \n",
       "\n",
       "The most straightforward solution is to use a third variable to temporarily store one of the old values. e.g.:\n",
       "\n",
       "    tmp = a\n",
       "    a = b\n",
       "    b = tmp\n",
       "\n",
       "If you've read lots of Python code, you might have seen the following trick to swap two variables in one line:\n",
       "\n",
       "    a, b = b, a\n",
       "\n",
       "We'll demystify this bit of Python magic later when we talk about *tuples*."
      ],
      "text/plain": [
       "Correct: \n",
       "\n",
       "The most straightforward solution is to use a third variable to temporarily store one of the old values. e.g.:\n",
       "\n",
       "    tmp = a\n",
       "    a = b\n",
       "    b = tmp\n",
       "\n",
       "If you've read lots of Python code, you might have seen the following trick to swap two variables in one line:\n",
       "\n",
       "    a, b = b, a\n",
       "\n",
       "We'll demystify this bit of Python magic later when we talk about *tuples*."
      ]
     },
     "metadata": {},
     "output_type": "display_data"
    }
   ],
   "source": [
    "########### Setup code - don't touch this part ######################\n",
    "# If you're curious, these are examples of lists. We'll talk about \n",
    "# them in depth a few lessons from now. For now, just know that they're\n",
    "# yet another type of Python object, like int or float.\n",
    "a = [1, 2, 3]\n",
    "b = [3, 2, 1]\n",
    "q2.store_original_ids()\n",
    "######################################################################\n",
    "\n",
    "# Your code goes here. Swap the values to which a and b refer.\n",
    "# If you get stuck, you can always uncomment one or both of the lines in\n",
    "# the next cell for a hint, or to peek at the solution.\n",
    "\n",
    "######################################################################\n",
    "a, b = b, a\n",
    "# Check your answer\n",
    "q2.check()"
   ]
  },
  {
   "cell_type": "code",
   "execution_count": 9,
   "id": "388d4d79",
   "metadata": {
    "execution": {
     "iopub.execute_input": "2021-08-04T18:03:37.902045Z",
     "iopub.status.busy": "2021-08-04T18:03:37.901265Z",
     "iopub.status.idle": "2021-08-04T18:03:37.904029Z",
     "shell.execute_reply": "2021-08-04T18:03:37.904864Z"
    },
    "papermill": {
     "duration": 0.040818,
     "end_time": "2021-08-04T18:03:37.905122",
     "exception": false,
     "start_time": "2021-08-04T18:03:37.864304",
     "status": "completed"
    },
    "tags": []
   },
   "outputs": [],
   "source": [
    "#q2.hint()"
   ]
  },
  {
   "cell_type": "code",
   "execution_count": 10,
   "id": "e98c708d",
   "metadata": {
    "execution": {
     "iopub.execute_input": "2021-08-04T18:03:37.967950Z",
     "iopub.status.busy": "2021-08-04T18:03:37.967284Z",
     "iopub.status.idle": "2021-08-04T18:03:37.970575Z",
     "shell.execute_reply": "2021-08-04T18:03:37.971131Z"
    },
    "papermill": {
     "duration": 0.034332,
     "end_time": "2021-08-04T18:03:37.971317",
     "exception": false,
     "start_time": "2021-08-04T18:03:37.936985",
     "status": "completed"
    },
    "tags": []
   },
   "outputs": [],
   "source": [
    "#q2.solution()"
   ]
  },
  {
   "cell_type": "markdown",
   "id": "5358aa31",
   "metadata": {
    "papermill": {
     "duration": 0.024363,
     "end_time": "2021-08-04T18:03:38.020760",
     "exception": false,
     "start_time": "2021-08-04T18:03:37.996397",
     "status": "completed"
    },
    "tags": []
   },
   "source": [
    "<hr/>\n",
    "\n",
    "# 3a.\n",
    "\n",
    "Add parentheses to the following expression so that it evaluates to 1."
   ]
  },
  {
   "cell_type": "code",
   "execution_count": 11,
   "id": "b455cd9b",
   "metadata": {
    "execution": {
     "iopub.execute_input": "2021-08-04T18:03:38.075873Z",
     "iopub.status.busy": "2021-08-04T18:03:38.075234Z",
     "iopub.status.idle": "2021-08-04T18:03:38.080808Z",
     "shell.execute_reply": "2021-08-04T18:03:38.080175Z",
     "shell.execute_reply.started": "2021-08-04T18:00:33.686061Z"
    },
    "papermill": {
     "duration": 0.034342,
     "end_time": "2021-08-04T18:03:38.080974",
     "exception": false,
     "start_time": "2021-08-04T18:03:38.046632",
     "status": "completed"
    },
    "tags": []
   },
   "outputs": [
    {
     "data": {
      "text/plain": [
       "1"
      ]
     },
     "execution_count": 11,
     "metadata": {},
     "output_type": "execute_result"
    }
   ],
   "source": [
    "(5 - 3) // 2"
   ]
  },
  {
   "cell_type": "code",
   "execution_count": 12,
   "id": "f1a78561",
   "metadata": {
    "execution": {
     "iopub.execute_input": "2021-08-04T18:03:38.135357Z",
     "iopub.status.busy": "2021-08-04T18:03:38.134669Z",
     "iopub.status.idle": "2021-08-04T18:03:38.138076Z",
     "shell.execute_reply": "2021-08-04T18:03:38.137550Z"
    },
    "papermill": {
     "duration": 0.031948,
     "end_time": "2021-08-04T18:03:38.138223",
     "exception": false,
     "start_time": "2021-08-04T18:03:38.106275",
     "status": "completed"
    },
    "tags": []
   },
   "outputs": [],
   "source": [
    "#q3.a.hint()"
   ]
  },
  {
   "cell_type": "code",
   "execution_count": 13,
   "id": "a3ee2573",
   "metadata": {
    "execution": {
     "iopub.execute_input": "2021-08-04T18:03:38.192960Z",
     "iopub.status.busy": "2021-08-04T18:03:38.192294Z",
     "iopub.status.idle": "2021-08-04T18:03:38.197533Z",
     "shell.execute_reply": "2021-08-04T18:03:38.196953Z"
    },
    "papermill": {
     "duration": 0.034376,
     "end_time": "2021-08-04T18:03:38.197677",
     "exception": false,
     "start_time": "2021-08-04T18:03:38.163301",
     "status": "completed"
    },
    "tags": []
   },
   "outputs": [
    {
     "data": {
      "application/javascript": [
       "parent.postMessage({\"jupyterEvent\": \"custom.exercise_interaction\", \"data\": {\"interactionType\": 3, \"questionType\": 4, \"questionId\": \"3.1_ArithmeticParensEasy\", \"learnToolsVersion\": \"0.3.4\", \"valueTowardsCompletion\": 0.0, \"failureMessage\": \"\", \"exceptionClass\": \"\", \"trace\": \"\", \"outcomeType\": 4}}, \"*\")"
      ],
      "text/plain": [
       "<IPython.core.display.Javascript object>"
      ]
     },
     "metadata": {},
     "output_type": "display_data"
    },
    {
     "data": {
      "text/markdown": [
       "<span style=\"color:#33cc99\">Solution:</span> \n",
       "```python\n",
       "(5 - 3) // 2\n",
       "```"
      ],
      "text/plain": [
       "Solution: \n",
       "```python\n",
       "(5 - 3) // 2\n",
       "```"
      ]
     },
     "metadata": {},
     "output_type": "display_data"
    }
   ],
   "source": [
    "# Check your answer (Run this code cell to receive credit!)\n",
    "q3.a.solution()"
   ]
  },
  {
   "cell_type": "markdown",
   "id": "294f8c08",
   "metadata": {
    "papermill": {
     "duration": 0.025538,
     "end_time": "2021-08-04T18:03:38.249549",
     "exception": false,
     "start_time": "2021-08-04T18:03:38.224011",
     "status": "completed"
    },
    "tags": []
   },
   "source": [
    "# 3b.  <span title=\"A bit spicy\" style=\"color: darkgreen \">🌶️</span>\n",
    "\n",
    "<small>Questions, like this one, marked a spicy pepper are a bit harder.</small>\n",
    "\n",
    "Add parentheses to the following expression so that it evaluates to 0."
   ]
  },
  {
   "cell_type": "code",
   "execution_count": 14,
   "id": "09a37ca0",
   "metadata": {
    "execution": {
     "iopub.execute_input": "2021-08-04T18:03:38.305227Z",
     "iopub.status.busy": "2021-08-04T18:03:38.304473Z",
     "iopub.status.idle": "2021-08-04T18:03:38.310123Z",
     "shell.execute_reply": "2021-08-04T18:03:38.310553Z",
     "shell.execute_reply.started": "2021-08-04T18:01:23.043689Z"
    },
    "papermill": {
     "duration": 0.034728,
     "end_time": "2021-08-04T18:03:38.310742",
     "exception": false,
     "start_time": "2021-08-04T18:03:38.276014",
     "status": "completed"
    },
    "tags": []
   },
   "outputs": [
    {
     "data": {
      "text/plain": [
       "0"
      ]
     },
     "execution_count": 14,
     "metadata": {},
     "output_type": "execute_result"
    }
   ],
   "source": [
    "(8 - 3) * (2 - (1 + 1))"
   ]
  },
  {
   "cell_type": "code",
   "execution_count": 15,
   "id": "88deac64",
   "metadata": {
    "execution": {
     "iopub.execute_input": "2021-08-04T18:03:38.373567Z",
     "iopub.status.busy": "2021-08-04T18:03:38.372730Z",
     "iopub.status.idle": "2021-08-04T18:03:38.375436Z",
     "shell.execute_reply": "2021-08-04T18:03:38.376119Z"
    },
    "papermill": {
     "duration": 0.037609,
     "end_time": "2021-08-04T18:03:38.376353",
     "exception": false,
     "start_time": "2021-08-04T18:03:38.338744",
     "status": "completed"
    },
    "tags": []
   },
   "outputs": [],
   "source": [
    "#q3.b.hint()"
   ]
  },
  {
   "cell_type": "code",
   "execution_count": 16,
   "id": "431ae91e",
   "metadata": {
    "execution": {
     "iopub.execute_input": "2021-08-04T18:03:38.440085Z",
     "iopub.status.busy": "2021-08-04T18:03:38.439272Z",
     "iopub.status.idle": "2021-08-04T18:03:38.444585Z",
     "shell.execute_reply": "2021-08-04T18:03:38.444111Z"
    },
    "papermill": {
     "duration": 0.038644,
     "end_time": "2021-08-04T18:03:38.444735",
     "exception": false,
     "start_time": "2021-08-04T18:03:38.406091",
     "status": "completed"
    },
    "tags": []
   },
   "outputs": [
    {
     "data": {
      "application/javascript": [
       "parent.postMessage({\"jupyterEvent\": \"custom.exercise_interaction\", \"data\": {\"interactionType\": 3, \"questionType\": 4, \"questionId\": \"3.2_ArithmeticParensHard\", \"learnToolsVersion\": \"0.3.4\", \"valueTowardsCompletion\": 0.0, \"failureMessage\": \"\", \"exceptionClass\": \"\", \"trace\": \"\", \"outcomeType\": 4}}, \"*\")"
      ],
      "text/plain": [
       "<IPython.core.display.Javascript object>"
      ]
     },
     "metadata": {},
     "output_type": "display_data"
    },
    {
     "data": {
      "text/markdown": [
       "<span style=\"color:#33cc99\">Solution:</span> `(8 - 3) * (2 - (1 + 1))` is one solution. There may be others."
      ],
      "text/plain": [
       "Solution: `(8 - 3) * (2 - (1 + 1))` is one solution. There may be others."
      ]
     },
     "metadata": {},
     "output_type": "display_data"
    }
   ],
   "source": [
    "# Check your answer (Run this code cell to receive credit!)\n",
    "q3.b.solution()"
   ]
  },
  {
   "cell_type": "markdown",
   "id": "a4129adc",
   "metadata": {
    "papermill": {
     "duration": 0.027805,
     "end_time": "2021-08-04T18:03:38.500402",
     "exception": false,
     "start_time": "2021-08-04T18:03:38.472597",
     "status": "completed"
    },
    "tags": []
   },
   "source": [
    "<hr/>\n",
    "\n",
    "# 4. \n",
    "Alice, Bob and Carol have agreed to pool their Halloween candy and split it evenly among themselves.\n",
    "For the sake of their friendship, any candies left over will be smashed. For example, if they collectively\n",
    "bring home 91 candies, they'll take 30 each and smash 1.\n",
    "\n",
    "Write an arithmetic expression below to calculate how many candies they must smash for a given haul."
   ]
  },
  {
   "cell_type": "code",
   "execution_count": 17,
   "id": "84af55a7",
   "metadata": {
    "execution": {
     "iopub.execute_input": "2021-08-04T18:03:38.561951Z",
     "iopub.status.busy": "2021-08-04T18:03:38.561287Z",
     "iopub.status.idle": "2021-08-04T18:03:38.567394Z",
     "shell.execute_reply": "2021-08-04T18:03:38.566922Z",
     "shell.execute_reply.started": "2021-08-04T18:02:56.888589Z"
    },
    "papermill": {
     "duration": 0.039445,
     "end_time": "2021-08-04T18:03:38.567527",
     "exception": false,
     "start_time": "2021-08-04T18:03:38.528082",
     "status": "completed"
    },
    "tags": []
   },
   "outputs": [
    {
     "data": {
      "application/javascript": [
       "parent.postMessage({\"jupyterEvent\": \"custom.exercise_interaction\", \"data\": {\"outcomeType\": 1, \"valueTowardsCompletion\": 0.25, \"interactionType\": 1, \"questionType\": 1, \"questionId\": \"4_CandySplitting\", \"learnToolsVersion\": \"0.3.4\", \"failureMessage\": \"\", \"exceptionClass\": \"\", \"trace\": \"\"}}, \"*\")"
      ],
      "text/plain": [
       "<IPython.core.display.Javascript object>"
      ]
     },
     "metadata": {},
     "output_type": "display_data"
    },
    {
     "data": {
      "text/markdown": [
       "<span style=\"color:#33cc33\">Correct</span>"
      ],
      "text/plain": [
       "Correct"
      ]
     },
     "metadata": {},
     "output_type": "display_data"
    }
   ],
   "source": [
    "# Variables representing the number of candies collected by alice, bob, and carol\n",
    "alice_candies = 121\n",
    "bob_candies = 77\n",
    "carol_candies = 109\n",
    "\n",
    "# Your code goes here! Replace the right-hand side of this assignment with an expression\n",
    "# involving alice_candies, bob_candies, and carol_candies\n",
    "to_smash = (alice_candies + bob_candies + carol_candies) % 3\n",
    "\n",
    "\n",
    "# Check your answer\n",
    "q4.check()"
   ]
  },
  {
   "cell_type": "code",
   "execution_count": 18,
   "id": "da4fbc87",
   "metadata": {
    "execution": {
     "iopub.execute_input": "2021-08-04T18:03:38.629116Z",
     "iopub.status.busy": "2021-08-04T18:03:38.628436Z",
     "iopub.status.idle": "2021-08-04T18:03:38.631607Z",
     "shell.execute_reply": "2021-08-04T18:03:38.632069Z"
    },
    "papermill": {
     "duration": 0.035924,
     "end_time": "2021-08-04T18:03:38.632242",
     "exception": false,
     "start_time": "2021-08-04T18:03:38.596318",
     "status": "completed"
    },
    "tags": []
   },
   "outputs": [],
   "source": [
    "#q4.hint()\n",
    "#q4.solution()"
   ]
  },
  {
   "cell_type": "markdown",
   "id": "75fca639",
   "metadata": {
    "papermill": {
     "duration": 0.028354,
     "end_time": "2021-08-04T18:03:38.689390",
     "exception": false,
     "start_time": "2021-08-04T18:03:38.661036",
     "status": "completed"
    },
    "tags": []
   },
   "source": [
    "# Keep Going\n",
    "\n",
    "Next up, you'll **[learn to write new functions and understand functions others write](https://www.kaggle.com/colinmorris/functions-and-getting-help)**. This will make you at least 10 times more productive as a Python programmer. "
   ]
  },
  {
   "cell_type": "markdown",
   "id": "269205a6",
   "metadata": {
    "papermill": {
     "duration": 0.028278,
     "end_time": "2021-08-04T18:03:38.746449",
     "exception": false,
     "start_time": "2021-08-04T18:03:38.718171",
     "status": "completed"
    },
    "tags": []
   },
   "source": [
    "---\n",
    "\n",
    "\n",
    "\n",
    "\n",
    "*Have questions or comments? Visit the [Learn Discussion forum](https://www.kaggle.com/learn-forum/161283) to chat with other Learners.*"
   ]
  }
 ],
 "metadata": {
  "kernelspec": {
   "display_name": "Python 3",
   "language": "python",
   "name": "python3"
  },
  "language_info": {
   "codemirror_mode": {
    "name": "ipython",
    "version": 3
   },
   "file_extension": ".py",
   "mimetype": "text/x-python",
   "name": "python",
   "nbconvert_exporter": "python",
   "pygments_lexer": "ipython3",
   "version": "3.7.10"
  },
  "papermill": {
   "default_parameters": {},
   "duration": 10.303107,
   "end_time": "2021-08-04T18:03:39.385742",
   "environment_variables": {},
   "exception": null,
   "input_path": "__notebook__.ipynb",
   "output_path": "__notebook__.ipynb",
   "parameters": {},
   "start_time": "2021-08-04T18:03:29.082635",
   "version": "2.3.3"
  }
 },
 "nbformat": 4,
 "nbformat_minor": 5
}
