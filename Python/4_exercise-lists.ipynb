{
 "cells": [
  {
   "cell_type": "markdown",
   "id": "758de084",
   "metadata": {
    "papermill": {
     "duration": 0.011604,
     "end_time": "2021-08-08T09:47:59.821917",
     "exception": false,
     "start_time": "2021-08-08T09:47:59.810313",
     "status": "completed"
    },
    "tags": []
   },
   "source": [
    "**This notebook is an exercise in the [Python](https://www.kaggle.com/learn/python) course.  You can reference the tutorial at [this link](https://www.kaggle.com/colinmorris/lists).**\n",
    "\n",
    "---\n"
   ]
  },
  {
   "cell_type": "markdown",
   "id": "303260ea",
   "metadata": {
    "papermill": {
     "duration": 0.01093,
     "end_time": "2021-08-08T09:47:59.843721",
     "exception": false,
     "start_time": "2021-08-08T09:47:59.832791",
     "status": "completed"
    },
    "tags": []
   },
   "source": [
    "Things get more interesting with lists. You'll apply your new knowledge to solve the questions below. Remember to run the following cell first."
   ]
  },
  {
   "cell_type": "code",
   "execution_count": 1,
   "id": "a3f63be7",
   "metadata": {
    "execution": {
     "iopub.execute_input": "2021-08-08T09:47:59.868146Z",
     "iopub.status.busy": "2021-08-08T09:47:59.867139Z",
     "iopub.status.idle": "2021-08-08T09:47:59.988967Z",
     "shell.execute_reply": "2021-08-08T09:47:59.988280Z",
     "shell.execute_reply.started": "2021-08-08T09:31:04.174932Z"
    },
    "papermill": {
     "duration": 0.135045,
     "end_time": "2021-08-08T09:47:59.989118",
     "exception": false,
     "start_time": "2021-08-08T09:47:59.854073",
     "status": "completed"
    },
    "tags": []
   },
   "outputs": [
    {
     "name": "stdout",
     "output_type": "stream",
     "text": [
      "Setup complete.\n"
     ]
    }
   ],
   "source": [
    "from learntools.core import binder; binder.bind(globals())\n",
    "from learntools.python.ex4 import *\n",
    "print('Setup complete.')"
   ]
  },
  {
   "cell_type": "markdown",
   "id": "bb030f01",
   "metadata": {
    "papermill": {
     "duration": 0.011257,
     "end_time": "2021-08-08T09:48:00.011390",
     "exception": false,
     "start_time": "2021-08-08T09:48:00.000133",
     "status": "completed"
    },
    "tags": []
   },
   "source": [
    "# 1.\n",
    "\n",
    "Complete the function below according to its docstring."
   ]
  },
  {
   "cell_type": "code",
   "execution_count": 2,
   "id": "bd755715",
   "metadata": {
    "execution": {
     "iopub.execute_input": "2021-08-08T09:48:00.041350Z",
     "iopub.status.busy": "2021-08-08T09:48:00.040427Z",
     "iopub.status.idle": "2021-08-08T09:48:00.046161Z",
     "shell.execute_reply": "2021-08-08T09:48:00.045735Z",
     "shell.execute_reply.started": "2021-08-08T09:32:52.141000Z"
    },
    "papermill": {
     "duration": 0.023836,
     "end_time": "2021-08-08T09:48:00.046291",
     "exception": false,
     "start_time": "2021-08-08T09:48:00.022455",
     "status": "completed"
    },
    "tags": []
   },
   "outputs": [
    {
     "data": {
      "application/javascript": [
       "parent.postMessage({\"jupyterEvent\": \"custom.exercise_interaction\", \"data\": {\"outcomeType\": 1, \"valueTowardsCompletion\": 0.2, \"interactionType\": 1, \"questionType\": 2, \"questionId\": \"1_SelectSecondItem\", \"learnToolsVersion\": \"0.3.4\", \"failureMessage\": \"\", \"exceptionClass\": \"\", \"trace\": \"\"}}, \"*\")"
      ],
      "text/plain": [
       "<IPython.core.display.Javascript object>"
      ]
     },
     "metadata": {},
     "output_type": "display_data"
    },
    {
     "data": {
      "text/markdown": [
       "<span style=\"color:#33cc33\">Correct</span>"
      ],
      "text/plain": [
       "Correct"
      ]
     },
     "metadata": {},
     "output_type": "display_data"
    }
   ],
   "source": [
    "def select_second(L):\n",
    "    \"\"\"Return the second element of the given list. If the list has no second\n",
    "    element, return None.\n",
    "    \"\"\"\n",
    "    if len(L) > 2:\n",
    "        return L[1]\n",
    "    else:\n",
    "        return None\n",
    "    \n",
    "\n",
    "# Check your answer\n",
    "q1.check()"
   ]
  },
  {
   "cell_type": "code",
   "execution_count": 3,
   "id": "37ef0065",
   "metadata": {
    "execution": {
     "iopub.execute_input": "2021-08-08T09:48:00.073271Z",
     "iopub.status.busy": "2021-08-08T09:48:00.072649Z",
     "iopub.status.idle": "2021-08-08T09:48:00.075098Z",
     "shell.execute_reply": "2021-08-08T09:48:00.075487Z",
     "shell.execute_reply.started": "2021-08-08T09:32:53.733357Z"
    },
    "papermill": {
     "duration": 0.01792,
     "end_time": "2021-08-08T09:48:00.075666",
     "exception": false,
     "start_time": "2021-08-08T09:48:00.057746",
     "status": "completed"
    },
    "tags": []
   },
   "outputs": [],
   "source": [
    "#q1.hint()\n",
    "#q1.solution()"
   ]
  },
  {
   "cell_type": "markdown",
   "id": "0d7f41ca",
   "metadata": {
    "papermill": {
     "duration": 0.011472,
     "end_time": "2021-08-08T09:48:00.098935",
     "exception": false,
     "start_time": "2021-08-08T09:48:00.087463",
     "status": "completed"
    },
    "tags": []
   },
   "source": [
    "# 2.\n",
    "\n",
    "You are analyzing sports teams.  Members of each team are stored in a list. The Coach is the first name in the list, the captain is the second name in the list, and other players are listed after that. \n",
    "These lists are stored in another list, which starts with the best team and proceeds through the list to the worst team last.  Complete the function below to select the **captain** of the worst team."
   ]
  },
  {
   "cell_type": "code",
   "execution_count": 4,
   "id": "24df482c",
   "metadata": {
    "execution": {
     "iopub.execute_input": "2021-08-08T09:48:00.127654Z",
     "iopub.status.busy": "2021-08-08T09:48:00.126888Z",
     "iopub.status.idle": "2021-08-08T09:48:00.132084Z",
     "shell.execute_reply": "2021-08-08T09:48:00.131607Z",
     "shell.execute_reply.started": "2021-08-08T09:34:09.544878Z"
    },
    "papermill": {
     "duration": 0.021755,
     "end_time": "2021-08-08T09:48:00.132227",
     "exception": false,
     "start_time": "2021-08-08T09:48:00.110472",
     "status": "completed"
    },
    "tags": []
   },
   "outputs": [
    {
     "data": {
      "application/javascript": [
       "parent.postMessage({\"jupyterEvent\": \"custom.exercise_interaction\", \"data\": {\"outcomeType\": 1, \"valueTowardsCompletion\": 0.2, \"interactionType\": 1, \"questionType\": 2, \"questionId\": \"2_LosingTeamCaptain\", \"learnToolsVersion\": \"0.3.4\", \"failureMessage\": \"\", \"exceptionClass\": \"\", \"trace\": \"\"}}, \"*\")"
      ],
      "text/plain": [
       "<IPython.core.display.Javascript object>"
      ]
     },
     "metadata": {},
     "output_type": "display_data"
    },
    {
     "data": {
      "text/markdown": [
       "<span style=\"color:#33cc33\">Correct</span>"
      ],
      "text/plain": [
       "Correct"
      ]
     },
     "metadata": {},
     "output_type": "display_data"
    }
   ],
   "source": [
    "def losing_team_captain(teams):\n",
    "    \"\"\"Given a list of teams, where each team is a list of names, return the 2nd player (captain)\n",
    "    from the last listed team\n",
    "    \"\"\"\n",
    "    return teams[-1][1]\n",
    "\n",
    "# Check your answer\n",
    "q2.check()"
   ]
  },
  {
   "cell_type": "code",
   "execution_count": 5,
   "id": "9f8661c7",
   "metadata": {
    "execution": {
     "iopub.execute_input": "2021-08-08T09:48:00.161156Z",
     "iopub.status.busy": "2021-08-08T09:48:00.160546Z",
     "iopub.status.idle": "2021-08-08T09:48:00.162488Z",
     "shell.execute_reply": "2021-08-08T09:48:00.162941Z",
     "shell.execute_reply.started": "2021-08-08T09:34:13.414153Z"
    },
    "papermill": {
     "duration": 0.018362,
     "end_time": "2021-08-08T09:48:00.163093",
     "exception": false,
     "start_time": "2021-08-08T09:48:00.144731",
     "status": "completed"
    },
    "tags": []
   },
   "outputs": [],
   "source": [
    "#q2.hint()\n",
    "#q2.solution()"
   ]
  },
  {
   "cell_type": "markdown",
   "id": "90e0b405",
   "metadata": {
    "papermill": {
     "duration": 0.012043,
     "end_time": "2021-08-08T09:48:00.187721",
     "exception": false,
     "start_time": "2021-08-08T09:48:00.175678",
     "status": "completed"
    },
    "tags": []
   },
   "source": [
    "# 3.\n",
    "\n",
    "The next iteration of Mario Kart will feature an extra-infuriating new item, the *Purple Shell*. When used, it warps the last place racer into first place and the first place racer into last place. Complete the function below to implement the Purple Shell's effect."
   ]
  },
  {
   "cell_type": "code",
   "execution_count": 6,
   "id": "71c5d1ab",
   "metadata": {
    "execution": {
     "iopub.execute_input": "2021-08-08T09:48:00.215616Z",
     "iopub.status.busy": "2021-08-08T09:48:00.215062Z",
     "iopub.status.idle": "2021-08-08T09:48:00.222728Z",
     "shell.execute_reply": "2021-08-08T09:48:00.222097Z",
     "shell.execute_reply.started": "2021-08-08T09:37:20.894664Z"
    },
    "papermill": {
     "duration": 0.022328,
     "end_time": "2021-08-08T09:48:00.222859",
     "exception": false,
     "start_time": "2021-08-08T09:48:00.200531",
     "status": "completed"
    },
    "tags": []
   },
   "outputs": [
    {
     "data": {
      "application/javascript": [
       "parent.postMessage({\"jupyterEvent\": \"custom.exercise_interaction\", \"data\": {\"outcomeType\": 1, \"valueTowardsCompletion\": 0.2, \"interactionType\": 1, \"questionType\": 2, \"questionId\": \"3_PurpleShell\", \"learnToolsVersion\": \"0.3.4\", \"failureMessage\": \"\", \"exceptionClass\": \"\", \"trace\": \"\"}}, \"*\")"
      ],
      "text/plain": [
       "<IPython.core.display.Javascript object>"
      ]
     },
     "metadata": {},
     "output_type": "display_data"
    },
    {
     "data": {
      "text/markdown": [
       "<span style=\"color:#33cc33\">Correct</span>"
      ],
      "text/plain": [
       "Correct"
      ]
     },
     "metadata": {},
     "output_type": "display_data"
    }
   ],
   "source": [
    "def purple_shell(racers):\n",
    "    \"\"\"Given a list of racers, set the first place racer (at the front of the list) to last\n",
    "    place and vice versa.\n",
    "    \n",
    "    >>> r = [\"Mario\", \"Bowser\", \"Luigi\"]\n",
    "    >>> purple_shell(r)\n",
    "    >>> r\n",
    "    [\"Luigi\", \"Bowser\", \"Mario\"]\n",
    "    \"\"\"\n",
    "    index1 = racers[0]\n",
    "    indexLast = racers[-1]\n",
    "    \n",
    "    racers[0] = indexLast\n",
    "    racers[-1] = index1\n",
    "    \n",
    "# Check your answer\n",
    "q3.check()"
   ]
  },
  {
   "cell_type": "code",
   "execution_count": 7,
   "id": "eea6d916",
   "metadata": {
    "collapsed": true,
    "execution": {
     "iopub.execute_input": "2021-08-08T09:48:00.252722Z",
     "iopub.status.busy": "2021-08-08T09:48:00.252094Z",
     "iopub.status.idle": "2021-08-08T09:48:00.254995Z",
     "shell.execute_reply": "2021-08-08T09:48:00.255420Z"
    },
    "jupyter": {
     "outputs_hidden": true
    },
    "papermill": {
     "duration": 0.019376,
     "end_time": "2021-08-08T09:48:00.255576",
     "exception": false,
     "start_time": "2021-08-08T09:48:00.236200",
     "status": "completed"
    },
    "tags": []
   },
   "outputs": [],
   "source": [
    "#q3.hint()\n",
    "#q3.solution()"
   ]
  },
  {
   "cell_type": "markdown",
   "id": "d4d223e6",
   "metadata": {
    "papermill": {
     "duration": 0.012883,
     "end_time": "2021-08-08T09:48:00.281820",
     "exception": false,
     "start_time": "2021-08-08T09:48:00.268937",
     "status": "completed"
    },
    "tags": []
   },
   "source": [
    "# 4.\n",
    "\n",
    "What are the lengths of the following lists? Fill in the variable `lengths` with your predictions. (Try to make a prediction for each list *without* just calling `len()` on it.)"
   ]
  },
  {
   "cell_type": "code",
   "execution_count": 8,
   "id": "4c1894f9",
   "metadata": {
    "execution": {
     "iopub.execute_input": "2021-08-08T09:48:00.311257Z",
     "iopub.status.busy": "2021-08-08T09:48:00.310706Z",
     "iopub.status.idle": "2021-08-08T09:48:00.317447Z",
     "shell.execute_reply": "2021-08-08T09:48:00.317950Z",
     "shell.execute_reply.started": "2021-08-08T09:37:56.859416Z"
    },
    "papermill": {
     "duration": 0.022924,
     "end_time": "2021-08-08T09:48:00.318113",
     "exception": false,
     "start_time": "2021-08-08T09:48:00.295189",
     "status": "completed"
    },
    "tags": []
   },
   "outputs": [
    {
     "data": {
      "application/javascript": [
       "parent.postMessage({\"jupyterEvent\": \"custom.exercise_interaction\", \"data\": {\"outcomeType\": 1, \"valueTowardsCompletion\": 0.2, \"interactionType\": 1, \"questionType\": 1, \"questionId\": \"4_UnderstandLen\", \"learnToolsVersion\": \"0.3.4\", \"failureMessage\": \"\", \"exceptionClass\": \"\", \"trace\": \"\"}}, \"*\")"
      ],
      "text/plain": [
       "<IPython.core.display.Javascript object>"
      ]
     },
     "metadata": {},
     "output_type": "display_data"
    },
    {
     "data": {
      "text/markdown": [
       "<span style=\"color:#33cc33\">Correct:</span> \n",
       "\n",
       "\n",
       "- a: There are three items in this list. Nothing tricky yet.\n",
       "- b: The list `[2, 3]` counts as a single item. It has one item before it. So we have 2 items in the list\n",
       "- c: The empty list has 0 items\n",
       "- d: The expression is the same as the list `[2, 3]`, which has length 2."
      ],
      "text/plain": [
       "Correct: \n",
       "\n",
       "\n",
       "- a: There are three items in this list. Nothing tricky yet.\n",
       "- b: The list `[2, 3]` counts as a single item. It has one item before it. So we have 2 items in the list\n",
       "- c: The empty list has 0 items\n",
       "- d: The expression is the same as the list `[2, 3]`, which has length 2."
      ]
     },
     "metadata": {},
     "output_type": "display_data"
    }
   ],
   "source": [
    "a = [1, 2, 3]\n",
    "b = [1, [2, 3]]\n",
    "c = []\n",
    "d = [1, 2, 3][1:]\n",
    "\n",
    "# Put your predictions in the list below. Lengths should contain 4 numbers, the\n",
    "# first being the length of a, the second being the length of b and so on.\n",
    "lengths = [3,2,0,2]\n",
    "\n",
    "# Check your answer\n",
    "q4.check()"
   ]
  },
  {
   "cell_type": "code",
   "execution_count": 9,
   "id": "cda9c64b",
   "metadata": {
    "collapsed": true,
    "execution": {
     "iopub.execute_input": "2021-08-08T09:48:00.349061Z",
     "iopub.status.busy": "2021-08-08T09:48:00.348483Z",
     "iopub.status.idle": "2021-08-08T09:48:00.351064Z",
     "shell.execute_reply": "2021-08-08T09:48:00.351479Z"
    },
    "jupyter": {
     "outputs_hidden": true
    },
    "papermill": {
     "duration": 0.019595,
     "end_time": "2021-08-08T09:48:00.351641",
     "exception": false,
     "start_time": "2021-08-08T09:48:00.332046",
     "status": "completed"
    },
    "tags": []
   },
   "outputs": [],
   "source": [
    "# line below provides some explanation\n",
    "#q4.solution()"
   ]
  },
  {
   "cell_type": "markdown",
   "id": "0bc8978c",
   "metadata": {
    "papermill": {
     "duration": 0.013663,
     "end_time": "2021-08-08T09:48:00.379284",
     "exception": false,
     "start_time": "2021-08-08T09:48:00.365621",
     "status": "completed"
    },
    "tags": []
   },
   "source": [
    "# 5. <span title=\"A bit spicy\" style=\"color: darkgreen \">🌶️</span>\n",
    "\n",
    "We're using lists to record people who attended our party and what order they arrived in. For example, the following list represents a party with 7 guests, in which Adela showed up first and Ford was the last to arrive:\n",
    "\n",
    "    party_attendees = ['Adela', 'Fleda', 'Owen', 'May', 'Mona', 'Gilbert', 'Ford']\n",
    "\n",
    "A guest is considered 'fashionably late' if they arrived after at least half of the party's guests. However, they must not be the very last guest (that's taking it too far). In the above example, Mona and Gilbert are the only guests who were fashionably late.\n",
    "\n",
    "Complete the function below which takes a list of party attendees as well as a person, and tells us whether that person is fashionably late."
   ]
  },
  {
   "cell_type": "code",
   "execution_count": 10,
   "id": "cd346e80",
   "metadata": {
    "execution": {
     "iopub.execute_input": "2021-08-08T09:48:00.409986Z",
     "iopub.status.busy": "2021-08-08T09:48:00.409420Z",
     "iopub.status.idle": "2021-08-08T09:48:00.415573Z",
     "shell.execute_reply": "2021-08-08T09:48:00.416067Z",
     "shell.execute_reply.started": "2021-08-08T09:47:31.134718Z"
    },
    "papermill": {
     "duration": 0.022978,
     "end_time": "2021-08-08T09:48:00.416233",
     "exception": false,
     "start_time": "2021-08-08T09:48:00.393255",
     "status": "completed"
    },
    "tags": []
   },
   "outputs": [
    {
     "data": {
      "application/javascript": [
       "parent.postMessage({\"jupyterEvent\": \"custom.exercise_interaction\", \"data\": {\"outcomeType\": 1, \"valueTowardsCompletion\": 0.2, \"interactionType\": 1, \"questionType\": 2, \"questionId\": \"5_FashionablyLate\", \"learnToolsVersion\": \"0.3.4\", \"failureMessage\": \"\", \"exceptionClass\": \"\", \"trace\": \"\"}}, \"*\")"
      ],
      "text/plain": [
       "<IPython.core.display.Javascript object>"
      ]
     },
     "metadata": {},
     "output_type": "display_data"
    },
    {
     "data": {
      "text/markdown": [
       "<span style=\"color:#33cc33\">Correct</span>"
      ],
      "text/plain": [
       "Correct"
      ]
     },
     "metadata": {},
     "output_type": "display_data"
    }
   ],
   "source": [
    "def fashionably_late(arrivals, name):\n",
    "    \"\"\"Given an ordered list of arrivals to the party and a name, return whether the guest with that\n",
    "    name was fashionably late.\n",
    "    \"\"\"\n",
    "    \n",
    "    indexLoction = len(arrivals) / 2\n",
    "    if name == arrivals[-1]:\n",
    "        return False\n",
    "    elif arrivals.index(name) >= indexLoction:\n",
    "        return True\n",
    "    else:\n",
    "        return False\n",
    "    \n",
    "# Check your answer\n",
    "q5.check()"
   ]
  },
  {
   "cell_type": "code",
   "execution_count": 11,
   "id": "ade474db",
   "metadata": {
    "execution": {
     "iopub.execute_input": "2021-08-08T09:48:00.448263Z",
     "iopub.status.busy": "2021-08-08T09:48:00.447709Z",
     "iopub.status.idle": "2021-08-08T09:48:00.450408Z",
     "shell.execute_reply": "2021-08-08T09:48:00.450845Z",
     "shell.execute_reply.started": "2021-08-08T09:47:40.852922Z"
    },
    "papermill": {
     "duration": 0.020067,
     "end_time": "2021-08-08T09:48:00.450996",
     "exception": false,
     "start_time": "2021-08-08T09:48:00.430929",
     "status": "completed"
    },
    "tags": []
   },
   "outputs": [],
   "source": [
    "#q5.hint()\n",
    "#q5.solution()"
   ]
  },
  {
   "cell_type": "markdown",
   "id": "fcd57bb7",
   "metadata": {
    "papermill": {
     "duration": 0.014323,
     "end_time": "2021-08-08T09:48:00.480006",
     "exception": false,
     "start_time": "2021-08-08T09:48:00.465683",
     "status": "completed"
    },
    "tags": []
   },
   "source": [
    "# Keep Going\n",
    "\n",
    "That's it for lists and tuples! Now you have the baseline knowledge to **[learn about loops](https://www.kaggle.com/colinmorris/loops-and-list-comprehensions)**, which is where lists and tuples get really interesting. "
   ]
  },
  {
   "cell_type": "markdown",
   "id": "2e4a42d7",
   "metadata": {
    "papermill": {
     "duration": 0.014456,
     "end_time": "2021-08-08T09:48:00.509158",
     "exception": false,
     "start_time": "2021-08-08T09:48:00.494702",
     "status": "completed"
    },
    "tags": []
   },
   "source": [
    "---\n",
    "\n",
    "\n",
    "\n",
    "\n",
    "*Have questions or comments? Visit the [Learn Discussion forum](https://www.kaggle.com/learn-forum/161283) to chat with other Learners.*"
   ]
  }
 ],
 "metadata": {
  "kernelspec": {
   "display_name": "Python 3",
   "language": "python",
   "name": "python3"
  },
  "language_info": {
   "codemirror_mode": {
    "name": "ipython",
    "version": 3
   },
   "file_extension": ".py",
   "mimetype": "text/x-python",
   "name": "python",
   "nbconvert_exporter": "python",
   "pygments_lexer": "ipython3",
   "version": "3.7.10"
  },
  "papermill": {
   "default_parameters": {},
   "duration": 8.684122,
   "end_time": "2021-08-08T09:48:01.843716",
   "environment_variables": {},
   "exception": null,
   "input_path": "__notebook__.ipynb",
   "output_path": "__notebook__.ipynb",
   "parameters": {},
   "start_time": "2021-08-08T09:47:53.159594",
   "version": "2.3.3"
  }
 },
 "nbformat": 4,
 "nbformat_minor": 5
}
