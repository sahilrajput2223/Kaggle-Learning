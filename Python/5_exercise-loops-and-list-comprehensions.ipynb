{
 "cells": [
  {
   "cell_type": "markdown",
   "id": "f0f653e8",
   "metadata": {
    "papermill": {
     "duration": 0.013062,
     "end_time": "2021-08-08T10:39:03.169664",
     "exception": false,
     "start_time": "2021-08-08T10:39:03.156602",
     "status": "completed"
    },
    "tags": []
   },
   "source": [
    "**This notebook is an exercise in the [Python](https://www.kaggle.com/learn/python) course.  You can reference the tutorial at [this link](https://www.kaggle.com/colinmorris/loops-and-list-comprehensions).**\n",
    "\n",
    "---\n"
   ]
  },
  {
   "cell_type": "markdown",
   "id": "382b2e6f",
   "metadata": {
    "papermill": {
     "duration": 0.011639,
     "end_time": "2021-08-08T10:39:03.193581",
     "exception": false,
     "start_time": "2021-08-08T10:39:03.181942",
     "status": "completed"
    },
    "tags": []
   },
   "source": [
    "With all you've learned, you can start writing much more interesting programs. See if you can solve the problems below.\n",
    "\n",
    "As always, run the setup code below before working on the questions."
   ]
  },
  {
   "cell_type": "code",
   "execution_count": 1,
   "id": "084ea3d3",
   "metadata": {
    "execution": {
     "iopub.execute_input": "2021-08-08T10:39:03.221565Z",
     "iopub.status.busy": "2021-08-08T10:39:03.220496Z",
     "iopub.status.idle": "2021-08-08T10:39:03.355999Z",
     "shell.execute_reply": "2021-08-08T10:39:03.356942Z",
     "shell.execute_reply.started": "2021-08-08T10:22:39.642788Z"
    },
    "papermill": {
     "duration": 0.151901,
     "end_time": "2021-08-08T10:39:03.357358",
     "exception": false,
     "start_time": "2021-08-08T10:39:03.205457",
     "status": "completed"
    },
    "tags": []
   },
   "outputs": [
    {
     "name": "stdout",
     "output_type": "stream",
     "text": [
      "Setup complete.\n"
     ]
    }
   ],
   "source": [
    "from learntools.core import binder; binder.bind(globals())\n",
    "from learntools.python.ex5 import *\n",
    "print('Setup complete.')"
   ]
  },
  {
   "cell_type": "markdown",
   "id": "99511c01",
   "metadata": {
    "papermill": {
     "duration": 0.011789,
     "end_time": "2021-08-08T10:39:03.382294",
     "exception": false,
     "start_time": "2021-08-08T10:39:03.370505",
     "status": "completed"
    },
    "tags": []
   },
   "source": [
    "# 1.\n",
    "\n",
    "Have you ever felt debugging involved a bit of luck? The following program has a bug. Try to identify the bug and fix it."
   ]
  },
  {
   "cell_type": "code",
   "execution_count": 2,
   "id": "5f3c7e31",
   "metadata": {
    "execution": {
     "iopub.execute_input": "2021-08-08T10:39:03.411636Z",
     "iopub.status.busy": "2021-08-08T10:39:03.410996Z",
     "iopub.status.idle": "2021-08-08T10:39:03.413020Z",
     "shell.execute_reply": "2021-08-08T10:39:03.413506Z",
     "shell.execute_reply.started": "2021-08-08T10:23:15.122396Z"
    },
    "papermill": {
     "duration": 0.019207,
     "end_time": "2021-08-08T10:39:03.413668",
     "exception": false,
     "start_time": "2021-08-08T10:39:03.394461",
     "status": "completed"
    },
    "tags": []
   },
   "outputs": [],
   "source": [
    "def has_lucky_number(nums):\n",
    "    \"\"\"Return whether the given list of numbers is lucky. A lucky list contains\n",
    "    at least one number divisible by 7.\n",
    "    \"\"\"\n",
    "    for num in nums:\n",
    "        if num % 7 == 0:\n",
    "            return True\n",
    "        else:\n",
    "            return False"
   ]
  },
  {
   "cell_type": "markdown",
   "id": "54cbf230",
   "metadata": {
    "papermill": {
     "duration": 0.011931,
     "end_time": "2021-08-08T10:39:03.437897",
     "exception": false,
     "start_time": "2021-08-08T10:39:03.425966",
     "status": "completed"
    },
    "tags": []
   },
   "source": [
    "Try to identify the bug and fix it in the cell below:"
   ]
  },
  {
   "cell_type": "code",
   "execution_count": 3,
   "id": "4ee931c6",
   "metadata": {
    "execution": {
     "iopub.execute_input": "2021-08-08T10:39:03.465183Z",
     "iopub.status.busy": "2021-08-08T10:39:03.464616Z",
     "iopub.status.idle": "2021-08-08T10:39:03.473035Z",
     "shell.execute_reply": "2021-08-08T10:39:03.473551Z",
     "shell.execute_reply.started": "2021-08-08T10:25:11.202400Z"
    },
    "papermill": {
     "duration": 0.023648,
     "end_time": "2021-08-08T10:39:03.473713",
     "exception": false,
     "start_time": "2021-08-08T10:39:03.450065",
     "status": "completed"
    },
    "tags": []
   },
   "outputs": [
    {
     "data": {
      "application/javascript": [
       "parent.postMessage({\"jupyterEvent\": \"custom.exercise_interaction\", \"data\": {\"outcomeType\": 1, \"valueTowardsCompletion\": 0.25, \"interactionType\": 1, \"questionType\": 2, \"questionId\": \"1_EarlyExitDebugging\", \"learnToolsVersion\": \"0.3.4\", \"failureMessage\": \"\", \"exceptionClass\": \"\", \"trace\": \"\"}}, \"*\")"
      ],
      "text/plain": [
       "<IPython.core.display.Javascript object>"
      ]
     },
     "metadata": {},
     "output_type": "display_data"
    },
    {
     "data": {
      "text/markdown": [
       "<span style=\"color:#33cc33\">Correct:</span> \n",
       "\n",
       "Remember that `return` causes a function to exit immediately. So our original implementation always ran for just one iteration. We can only return `False` if we've looked at every element of the list (and confirmed that none of them are lucky). Though we can return early if the answer is `True`:\n",
       "\n",
       "```python\n",
       "def has_lucky_number(nums):\n",
       "    for num in nums:\n",
       "        if num % 7 == 0:\n",
       "            return True\n",
       "    # We've exhausted the list without finding a lucky number\n",
       "    return False\n",
       "```\n",
       "\n",
       "Here's a one-line version using a list comprehension with Python's `any` function (you can read about what it does by calling `help(any)`):\n",
       "\n",
       "```python\n",
       "def has_lucky_number(nums):\n",
       "    return any([num % 7 == 0 for num in nums])\n",
       "```\n"
      ],
      "text/plain": [
       "Correct: \n",
       "\n",
       "Remember that `return` causes a function to exit immediately. So our original implementation always ran for just one iteration. We can only return `False` if we've looked at every element of the list (and confirmed that none of them are lucky). Though we can return early if the answer is `True`:\n",
       "\n",
       "```python\n",
       "def has_lucky_number(nums):\n",
       "    for num in nums:\n",
       "        if num % 7 == 0:\n",
       "            return True\n",
       "    # We've exhausted the list without finding a lucky number\n",
       "    return False\n",
       "```\n",
       "\n",
       "Here's a one-line version using a list comprehension with Python's `any` function (you can read about what it does by calling `help(any)`):\n",
       "\n",
       "```python\n",
       "def has_lucky_number(nums):\n",
       "    return any([num % 7 == 0 for num in nums])\n",
       "```"
      ]
     },
     "metadata": {},
     "output_type": "display_data"
    }
   ],
   "source": [
    "def has_lucky_number(nums):\n",
    "    \"\"\"Return whether the given list of numbers is lucky. A lucky list contains\n",
    "    at least one number divisible by 7.\n",
    "    \"\"\"\n",
    "    for num in nums:\n",
    "        if num % 7 == 0:\n",
    "            return True\n",
    "            \n",
    "    return False\n",
    "# Check your answer\n",
    "q1.check()"
   ]
  },
  {
   "cell_type": "code",
   "execution_count": 4,
   "id": "9a652638",
   "metadata": {
    "execution": {
     "iopub.execute_input": "2021-08-08T10:39:03.502703Z",
     "iopub.status.busy": "2021-08-08T10:39:03.502108Z",
     "iopub.status.idle": "2021-08-08T10:39:03.506005Z",
     "shell.execute_reply": "2021-08-08T10:39:03.505586Z",
     "shell.execute_reply.started": "2021-08-08T10:25:19.801806Z"
    },
    "papermill": {
     "duration": 0.019268,
     "end_time": "2021-08-08T10:39:03.506137",
     "exception": false,
     "start_time": "2021-08-08T10:39:03.486869",
     "status": "completed"
    },
    "tags": []
   },
   "outputs": [],
   "source": [
    "#q1.hint()\n",
    "#q1.solution()"
   ]
  },
  {
   "cell_type": "markdown",
   "id": "f523cce6",
   "metadata": {
    "papermill": {
     "duration": 0.012785,
     "end_time": "2021-08-08T10:39:03.531936",
     "exception": false,
     "start_time": "2021-08-08T10:39:03.519151",
     "status": "completed"
    },
    "tags": []
   },
   "source": [
    "# 2.\n",
    "Look at the Python expression below. What do you think we'll get when we run it? When you've made your prediction, uncomment the code and run the cell to see if you were right."
   ]
  },
  {
   "cell_type": "code",
   "execution_count": 5,
   "id": "2107cc1d",
   "metadata": {
    "execution": {
     "iopub.execute_input": "2021-08-08T10:39:03.563560Z",
     "iopub.status.busy": "2021-08-08T10:39:03.562941Z",
     "iopub.status.idle": "2021-08-08T10:39:03.565101Z",
     "shell.execute_reply": "2021-08-08T10:39:03.565646Z",
     "shell.execute_reply.started": "2021-08-08T10:25:44.002152Z"
    },
    "papermill": {
     "duration": 0.020146,
     "end_time": "2021-08-08T10:39:03.565803",
     "exception": false,
     "start_time": "2021-08-08T10:39:03.545657",
     "status": "completed"
    },
    "tags": []
   },
   "outputs": [],
   "source": [
    "#[1, 2, 3, 4] > 2"
   ]
  },
  {
   "cell_type": "markdown",
   "id": "fc3182d8",
   "metadata": {
    "papermill": {
     "duration": 0.012887,
     "end_time": "2021-08-08T10:39:03.591965",
     "exception": false,
     "start_time": "2021-08-08T10:39:03.579078",
     "status": "completed"
    },
    "tags": []
   },
   "source": [
    "R and Python have some libraries (like numpy and pandas) compare each element of the list to 2 (i.e. do an 'element-wise' comparison) and give us a list of booleans like `[False, False, True, True]`. \n",
    "\n",
    "Implement a function that reproduces this behaviour, returning a list of booleans corresponding to whether the corresponding element is greater than n."
   ]
  },
  {
   "cell_type": "code",
   "execution_count": 6,
   "id": "957eb699",
   "metadata": {
    "execution": {
     "iopub.execute_input": "2021-08-08T10:39:03.621773Z",
     "iopub.status.busy": "2021-08-08T10:39:03.621174Z",
     "iopub.status.idle": "2021-08-08T10:39:03.627503Z",
     "shell.execute_reply": "2021-08-08T10:39:03.628021Z",
     "shell.execute_reply.started": "2021-08-08T10:27:15.282648Z"
    },
    "papermill": {
     "duration": 0.022249,
     "end_time": "2021-08-08T10:39:03.628176",
     "exception": false,
     "start_time": "2021-08-08T10:39:03.605927",
     "status": "completed"
    },
    "tags": []
   },
   "outputs": [
    {
     "data": {
      "application/javascript": [
       "parent.postMessage({\"jupyterEvent\": \"custom.exercise_interaction\", \"data\": {\"outcomeType\": 1, \"valueTowardsCompletion\": 0.25, \"interactionType\": 1, \"questionType\": 2, \"questionId\": \"2_ElementWiseComparison\", \"learnToolsVersion\": \"0.3.4\", \"failureMessage\": \"\", \"exceptionClass\": \"\", \"trace\": \"\"}}, \"*\")"
      ],
      "text/plain": [
       "<IPython.core.display.Javascript object>"
      ]
     },
     "metadata": {},
     "output_type": "display_data"
    },
    {
     "data": {
      "text/markdown": [
       "<span style=\"color:#33cc33\">Correct:</span> \n",
       "\n",
       "Here's one solution:\n",
       "```python\n",
       "def elementwise_greater_than(L, thresh):\n",
       "    res = []\n",
       "    for ele in L:\n",
       "        res.append(ele > thresh)\n",
       "    return res\n",
       "```\n",
       "\n",
       "And here's the list comprehension version:\n",
       "```python\n",
       "def elementwise_greater_than(L, thresh):\n",
       "    return [ele > thresh for ele in L]\n",
       "```\n"
      ],
      "text/plain": [
       "Correct: \n",
       "\n",
       "Here's one solution:\n",
       "```python\n",
       "def elementwise_greater_than(L, thresh):\n",
       "    res = []\n",
       "    for ele in L:\n",
       "        res.append(ele > thresh)\n",
       "    return res\n",
       "```\n",
       "\n",
       "And here's the list comprehension version:\n",
       "```python\n",
       "def elementwise_greater_than(L, thresh):\n",
       "    return [ele > thresh for ele in L]\n",
       "```"
      ]
     },
     "metadata": {},
     "output_type": "display_data"
    }
   ],
   "source": [
    "def elementwise_greater_than(L, thresh):\n",
    "    \"\"\"Return a list with the same length as L, where the value at index i is \n",
    "    True if L[i] is greater than thresh, and False otherwise.\n",
    "    \n",
    "    >>> elementwise_greater_than([1, 2, 3, 4], 2)\n",
    "    [False, False, True, True]\n",
    "    \"\"\"\n",
    "    return [ i > thresh  for i in L]\n",
    "\n",
    "# Check your answer\n",
    "q2.check()"
   ]
  },
  {
   "cell_type": "code",
   "execution_count": 7,
   "id": "347bbf03",
   "metadata": {
    "execution": {
     "iopub.execute_input": "2021-08-08T10:39:03.658978Z",
     "iopub.status.busy": "2021-08-08T10:39:03.658387Z",
     "iopub.status.idle": "2021-08-08T10:39:03.661394Z",
     "shell.execute_reply": "2021-08-08T10:39:03.661839Z"
    },
    "papermill": {
     "duration": 0.019836,
     "end_time": "2021-08-08T10:39:03.661997",
     "exception": false,
     "start_time": "2021-08-08T10:39:03.642161",
     "status": "completed"
    },
    "tags": []
   },
   "outputs": [],
   "source": [
    "#q2.solution()"
   ]
  },
  {
   "cell_type": "markdown",
   "id": "65d4c841",
   "metadata": {
    "papermill": {
     "duration": 0.013828,
     "end_time": "2021-08-08T10:39:03.689991",
     "exception": false,
     "start_time": "2021-08-08T10:39:03.676163",
     "status": "completed"
    },
    "tags": []
   },
   "source": [
    "# 3.\n",
    "\n",
    "Complete the body of the function below according to its docstring."
   ]
  },
  {
   "cell_type": "code",
   "execution_count": 8,
   "id": "154ca960",
   "metadata": {
    "execution": {
     "iopub.execute_input": "2021-08-08T10:39:03.721391Z",
     "iopub.status.busy": "2021-08-08T10:39:03.720736Z",
     "iopub.status.idle": "2021-08-08T10:39:03.729675Z",
     "shell.execute_reply": "2021-08-08T10:39:03.729045Z",
     "shell.execute_reply.started": "2021-08-08T10:31:39.366888Z"
    },
    "papermill": {
     "duration": 0.02561,
     "end_time": "2021-08-08T10:39:03.729810",
     "exception": false,
     "start_time": "2021-08-08T10:39:03.704200",
     "status": "completed"
    },
    "tags": []
   },
   "outputs": [
    {
     "data": {
      "application/javascript": [
       "parent.postMessage({\"jupyterEvent\": \"custom.exercise_interaction\", \"data\": {\"outcomeType\": 1, \"valueTowardsCompletion\": 0.25, \"interactionType\": 1, \"questionType\": 2, \"questionId\": \"3_BoringMenu\", \"learnToolsVersion\": \"0.3.4\", \"failureMessage\": \"\", \"exceptionClass\": \"\", \"trace\": \"\"}}, \"*\")"
      ],
      "text/plain": [
       "<IPython.core.display.Javascript object>"
      ]
     },
     "metadata": {},
     "output_type": "display_data"
    },
    {
     "data": {
      "text/markdown": [
       "<span style=\"color:#33cc33\">Correct:</span> \n",
       "\n",
       "\n",
       "\n",
       "```python\n",
       "def menu_is_boring(meals):\n",
       "    # Iterate over all indices of the list, except the last one\n",
       "    for i in range(len(meals)-1):\n",
       "        if meals[i] == meals[i+1]:\n",
       "            return True\n",
       "    return False\n",
       "```\n",
       "\n",
       "The key to our solution is the call to `range`. `range(len(meals))` would give us all the indices of `meals`. If we had used that range, the last iteration of the loop would be comparing the last element to the element after it, which is... `IndexError`! `range(len(meals)-1)` gives us all the indices except the index of the last element.\n",
       "\n",
       "But don't we need to check if `meals` is empty? Turns out that `range(0) == range(-1)` - they're both empty. So if `meals` has length 0 or 1, we just won't do any iterations of our for loop.\n"
      ],
      "text/plain": [
       "Correct: \n",
       "\n",
       "\n",
       "\n",
       "```python\n",
       "def menu_is_boring(meals):\n",
       "    # Iterate over all indices of the list, except the last one\n",
       "    for i in range(len(meals)-1):\n",
       "        if meals[i] == meals[i+1]:\n",
       "            return True\n",
       "    return False\n",
       "```\n",
       "\n",
       "The key to our solution is the call to `range`. `range(len(meals))` would give us all the indices of `meals`. If we had used that range, the last iteration of the loop would be comparing the last element to the element after it, which is... `IndexError`! `range(len(meals)-1)` gives us all the indices except the index of the last element.\n",
       "\n",
       "But don't we need to check if `meals` is empty? Turns out that `range(0) == range(-1)` - they're both empty. So if `meals` has length 0 or 1, we just won't do any iterations of our for loop."
      ]
     },
     "metadata": {},
     "output_type": "display_data"
    }
   ],
   "source": [
    "def menu_is_boring(meals):\n",
    "    \"\"\"Given a list of meals served over some period of time, return True if the\n",
    "    same meal has ever been served two days in a row, and False otherwise.\n",
    "    \"\"\"\n",
    "    for i in range(len(meals)):\n",
    "        if i == len(meals) - 1:\n",
    "            pass\n",
    "        elif meals[i] == meals[i+1]:\n",
    "            return True\n",
    "        \n",
    "    return False\n",
    "\n",
    "# Check your answer\n",
    "q3.check()"
   ]
  },
  {
   "cell_type": "code",
   "execution_count": 9,
   "id": "99dc4241",
   "metadata": {
    "execution": {
     "iopub.execute_input": "2021-08-08T10:39:03.764646Z",
     "iopub.status.busy": "2021-08-08T10:39:03.763915Z",
     "iopub.status.idle": "2021-08-08T10:39:03.766832Z",
     "shell.execute_reply": "2021-08-08T10:39:03.766350Z",
     "shell.execute_reply.started": "2021-08-08T10:31:43.361611Z"
    },
    "papermill": {
     "duration": 0.021791,
     "end_time": "2021-08-08T10:39:03.766960",
     "exception": false,
     "start_time": "2021-08-08T10:39:03.745169",
     "status": "completed"
    },
    "tags": []
   },
   "outputs": [],
   "source": [
    "#q3.hint()\n",
    "#q3.solution()"
   ]
  },
  {
   "cell_type": "markdown",
   "id": "e329cfa9",
   "metadata": {
    "papermill": {
     "duration": 0.014841,
     "end_time": "2021-08-08T10:39:03.797050",
     "exception": false,
     "start_time": "2021-08-08T10:39:03.782209",
     "status": "completed"
    },
    "tags": []
   },
   "source": [
    "# 4. <span title=\"A bit spicy\" style=\"color: darkgreen \">🌶️</span>\n",
    "\n",
    "Next to the Blackjack table, the Python Challenge Casino has a slot machine. You can get a result from the slot machine by calling `play_slot_machine()`. The number it returns is your winnings in dollars. Usually it returns 0.  But sometimes you'll get lucky and get a big payday. Try running it below:"
   ]
  },
  {
   "cell_type": "code",
   "execution_count": 10,
   "id": "7a8b8d21",
   "metadata": {
    "execution": {
     "iopub.execute_input": "2021-08-08T10:39:03.831429Z",
     "iopub.status.busy": "2021-08-08T10:39:03.830512Z",
     "iopub.status.idle": "2021-08-08T10:39:03.837168Z",
     "shell.execute_reply": "2021-08-08T10:39:03.836600Z",
     "shell.execute_reply.started": "2021-08-08T10:36:00.806849Z"
    },
    "papermill": {
     "duration": 0.025165,
     "end_time": "2021-08-08T10:39:03.837297",
     "exception": false,
     "start_time": "2021-08-08T10:39:03.812132",
     "status": "completed"
    },
    "tags": []
   },
   "outputs": [
    {
     "data": {
      "text/plain": [
       "0"
      ]
     },
     "execution_count": 10,
     "metadata": {},
     "output_type": "execute_result"
    }
   ],
   "source": [
    "play_slot_machine()"
   ]
  },
  {
   "cell_type": "markdown",
   "id": "ff0fb1a0",
   "metadata": {
    "papermill": {
     "duration": 0.014963,
     "end_time": "2021-08-08T10:39:03.867653",
     "exception": false,
     "start_time": "2021-08-08T10:39:03.852690",
     "status": "completed"
    },
    "tags": []
   },
   "source": [
    "By the way, did we mention that each play costs $1? Don't worry, we'll send you the bill later.\n",
    "\n",
    "On average, how much money can you expect to gain (or lose) every time you play the machine?  The casino keeps it a secret, but you can estimate the average value of each pull using a technique called the **Monte Carlo method**. To estimate the average outcome, we simulate the scenario many times, and return the average result.\n",
    "\n",
    "Complete the following function to calculate the average value per play of the slot machine."
   ]
  },
  {
   "cell_type": "code",
   "execution_count": 11,
   "id": "9c0ed362",
   "metadata": {
    "execution": {
     "iopub.execute_input": "2021-08-08T10:39:03.902390Z",
     "iopub.status.busy": "2021-08-08T10:39:03.901804Z",
     "iopub.status.idle": "2021-08-08T10:39:03.904573Z",
     "shell.execute_reply": "2021-08-08T10:39:03.904084Z"
    },
    "papermill": {
     "duration": 0.021825,
     "end_time": "2021-08-08T10:39:03.904708",
     "exception": false,
     "start_time": "2021-08-08T10:39:03.882883",
     "status": "completed"
    },
    "tags": []
   },
   "outputs": [],
   "source": [
    "def estimate_average_slot_payout(n_runs):\n",
    "    \"\"\"Run the slot machine n_runs times and return the average net profit per run.\n",
    "    Example calls (note that return value is nondeterministic!):\n",
    "    >>> estimate_average_slot_payout(1)\n",
    "    -1\n",
    "    >>> estimate_average_slot_payout(1)\n",
    "    0.5\n",
    "    \"\"\"\n",
    "    pass"
   ]
  },
  {
   "cell_type": "markdown",
   "id": "2455a9f9",
   "metadata": {
    "papermill": {
     "duration": 0.015802,
     "end_time": "2021-08-08T10:39:03.935756",
     "exception": false,
     "start_time": "2021-08-08T10:39:03.919954",
     "status": "completed"
    },
    "tags": []
   },
   "source": [
    "When you think you know the expected value per spin, run the code cell below to view the solution and get credit for answering the question."
   ]
  },
  {
   "cell_type": "code",
   "execution_count": 12,
   "id": "feba880f",
   "metadata": {
    "execution": {
     "iopub.execute_input": "2021-08-08T10:39:03.970604Z",
     "iopub.status.busy": "2021-08-08T10:39:03.969887Z",
     "iopub.status.idle": "2021-08-08T10:39:03.975188Z",
     "shell.execute_reply": "2021-08-08T10:39:03.975683Z",
     "shell.execute_reply.started": "2021-08-08T10:37:33.452516Z"
    },
    "papermill": {
     "duration": 0.025106,
     "end_time": "2021-08-08T10:39:03.975847",
     "exception": false,
     "start_time": "2021-08-08T10:39:03.950741",
     "status": "completed"
    },
    "tags": []
   },
   "outputs": [
    {
     "data": {
      "application/javascript": [
       "parent.postMessage({\"jupyterEvent\": \"custom.exercise_interaction\", \"data\": {\"interactionType\": 3, \"questionType\": 4, \"questionId\": \"4_ExpectedSlotsPayout\", \"learnToolsVersion\": \"0.3.4\", \"valueTowardsCompletion\": 0.0, \"failureMessage\": \"\", \"exceptionClass\": \"\", \"trace\": \"\", \"outcomeType\": 4}}, \"*\")"
      ],
      "text/plain": [
       "<IPython.core.display.Javascript object>"
      ]
     },
     "metadata": {},
     "output_type": "display_data"
    },
    {
     "data": {
      "text/markdown": [
       "<span style=\"color:#33cc99\">Solution:</span> The exact expected value of one pull of the slot machine is 0.025 - i.e. a little more than 2 cents. See? Not every game in the Python Challenge Casino is rigged against the player!\n",
       "\n",
       "Because of the high variance of the outcome (there are some very rare high payout results that significantly affect the average) you might need to run your function with a very high value of `n_runs` to get a stable answer close to the true expectation.\n",
       "\n",
       "If your answer is way higher than 0.025, then maybe you forgot to account for the $1 cost per play?"
      ],
      "text/plain": [
       "Solution: The exact expected value of one pull of the slot machine is 0.025 - i.e. a little more than 2 cents. See? Not every game in the Python Challenge Casino is rigged against the player!\n",
       "\n",
       "Because of the high variance of the outcome (there are some very rare high payout results that significantly affect the average) you might need to run your function with a very high value of `n_runs` to get a stable answer close to the true expectation.\n",
       "\n",
       "If your answer is way higher than 0.025, then maybe you forgot to account for the $1 cost per play?"
      ]
     },
     "metadata": {},
     "output_type": "display_data"
    }
   ],
   "source": [
    "# Check your answer (Run this code cell to receive credit!)\n",
    "q4.solution()"
   ]
  },
  {
   "cell_type": "markdown",
   "id": "c5c40de9",
   "metadata": {
    "papermill": {
     "duration": 0.015713,
     "end_time": "2021-08-08T10:39:04.007519",
     "exception": false,
     "start_time": "2021-08-08T10:39:03.991806",
     "status": "completed"
    },
    "tags": []
   },
   "source": [
    "# Keep Going\n",
    "\n",
    "Many programmers report that dictionaries are their favorite data structure. You'll get to **[learn about them](https://www.kaggle.com/colinmorris/strings-and-dictionaries)** (as well as strings) in the next lesson."
   ]
  },
  {
   "cell_type": "markdown",
   "id": "c8531dee",
   "metadata": {
    "papermill": {
     "duration": 0.0156,
     "end_time": "2021-08-08T10:39:04.039536",
     "exception": false,
     "start_time": "2021-08-08T10:39:04.023936",
     "status": "completed"
    },
    "tags": []
   },
   "source": [
    "---\n",
    "\n",
    "\n",
    "\n",
    "\n",
    "*Have questions or comments? Visit the [Learn Discussion forum](https://www.kaggle.com/learn-forum/161283) to chat with other Learners.*"
   ]
  }
 ],
 "metadata": {
  "kernelspec": {
   "display_name": "Python 3",
   "language": "python",
   "name": "python3"
  },
  "language_info": {
   "codemirror_mode": {
    "name": "ipython",
    "version": 3
   },
   "file_extension": ".py",
   "mimetype": "text/x-python",
   "name": "python",
   "nbconvert_exporter": "python",
   "pygments_lexer": "ipython3",
   "version": "3.7.10"
  },
  "papermill": {
   "default_parameters": {},
   "duration": 9.809121,
   "end_time": "2021-08-08T10:39:05.598858",
   "environment_variables": {},
   "exception": null,
   "input_path": "__notebook__.ipynb",
   "output_path": "__notebook__.ipynb",
   "parameters": {},
   "start_time": "2021-08-08T10:38:55.789737",
   "version": "2.3.3"
  }
 },
 "nbformat": 4,
 "nbformat_minor": 5
}
