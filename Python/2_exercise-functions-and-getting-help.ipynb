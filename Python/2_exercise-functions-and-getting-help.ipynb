{
 "cells": [
  {
   "cell_type": "markdown",
   "id": "20a1982a",
   "metadata": {
    "papermill": {
     "duration": 0.014022,
     "end_time": "2021-08-04T18:16:04.169144",
     "exception": false,
     "start_time": "2021-08-04T18:16:04.155122",
     "status": "completed"
    },
    "tags": []
   },
   "source": [
    "**This notebook is an exercise in the [Python](https://www.kaggle.com/learn/python) course.  You can reference the tutorial at [this link](https://www.kaggle.com/colinmorris/functions-and-getting-help).**\n",
    "\n",
    "---\n"
   ]
  },
  {
   "cell_type": "markdown",
   "id": "c3e80b5b",
   "metadata": {
    "papermill": {
     "duration": 0.012675,
     "end_time": "2021-08-04T18:16:04.195566",
     "exception": false,
     "start_time": "2021-08-04T18:16:04.182891",
     "status": "completed"
    },
    "tags": []
   },
   "source": [
    "# Try It Yourself\n",
    "\n",
    "Functions are powerful. Try writing some yourself.\n",
    "\n",
    "As before, don't forget to run the setup code below before jumping into question 1."
   ]
  },
  {
   "cell_type": "code",
   "execution_count": 1,
   "id": "69c86ea0",
   "metadata": {
    "_kg_hide-input": true,
    "_kg_hide-output": true,
    "execution": {
     "iopub.execute_input": "2021-08-04T18:16:04.232920Z",
     "iopub.status.busy": "2021-08-04T18:16:04.232258Z",
     "iopub.status.idle": "2021-08-04T18:16:04.360283Z",
     "shell.execute_reply": "2021-08-04T18:16:04.360859Z",
     "shell.execute_reply.started": "2021-08-04T18:13:29.470248Z"
    },
    "papermill": {
     "duration": 0.152658,
     "end_time": "2021-08-04T18:16:04.361162",
     "exception": false,
     "start_time": "2021-08-04T18:16:04.208504",
     "status": "completed"
    },
    "tags": []
   },
   "outputs": [
    {
     "name": "stdout",
     "output_type": "stream",
     "text": [
      "Setup complete.\n"
     ]
    }
   ],
   "source": [
    "# SETUP. You don't need to worry for now about what this code does or how it works.\n",
    "from learntools.core import binder; binder.bind(globals())\n",
    "from learntools.python.ex2 import *\n",
    "print('Setup complete.')"
   ]
  },
  {
   "cell_type": "markdown",
   "id": "0fab3b5d",
   "metadata": {
    "papermill": {
     "duration": 0.013054,
     "end_time": "2021-08-04T18:16:04.388156",
     "exception": false,
     "start_time": "2021-08-04T18:16:04.375102",
     "status": "completed"
    },
    "tags": []
   },
   "source": [
    "# Exercises"
   ]
  },
  {
   "cell_type": "markdown",
   "id": "56e228f4",
   "metadata": {
    "papermill": {
     "duration": 0.013054,
     "end_time": "2021-08-04T18:16:04.414558",
     "exception": false,
     "start_time": "2021-08-04T18:16:04.401504",
     "status": "completed"
    },
    "tags": []
   },
   "source": [
    "## 1.\n",
    "\n",
    "Complete the body of the following function according to its docstring.\n",
    "\n",
    "HINT: Python has a built-in function `round`."
   ]
  },
  {
   "cell_type": "code",
   "execution_count": 2,
   "id": "fb888318",
   "metadata": {
    "execution": {
     "iopub.execute_input": "2021-08-04T18:16:04.444170Z",
     "iopub.status.busy": "2021-08-04T18:16:04.443166Z",
     "iopub.status.idle": "2021-08-04T18:16:04.454670Z",
     "shell.execute_reply": "2021-08-04T18:16:04.455177Z",
     "shell.execute_reply.started": "2021-08-04T18:13:54.630668Z"
    },
    "papermill": {
     "duration": 0.027757,
     "end_time": "2021-08-04T18:16:04.455335",
     "exception": false,
     "start_time": "2021-08-04T18:16:04.427578",
     "status": "completed"
    },
    "tags": []
   },
   "outputs": [
    {
     "data": {
      "application/javascript": [
       "parent.postMessage({\"jupyterEvent\": \"custom.exercise_interaction\", \"data\": {\"outcomeType\": 1, \"valueTowardsCompletion\": 0.16666666666666666, \"interactionType\": 1, \"questionType\": 2, \"questionId\": \"1_RoundFunctionProblem\", \"learnToolsVersion\": \"0.3.4\", \"failureMessage\": \"\", \"exceptionClass\": \"\", \"trace\": \"\"}}, \"*\")"
      ],
      "text/plain": [
       "<IPython.core.display.Javascript object>"
      ]
     },
     "metadata": {},
     "output_type": "display_data"
    },
    {
     "data": {
      "text/markdown": [
       "<span style=\"color:#33cc33\">Correct</span>"
      ],
      "text/plain": [
       "Correct"
      ]
     },
     "metadata": {},
     "output_type": "display_data"
    }
   ],
   "source": [
    "def round_to_two_places(num):\n",
    "    \"\"\"Return the given number rounded to two decimal places. \n",
    "    \n",
    "    >>> round_to_two_places(3.14159)\n",
    "    3.14\n",
    "    \"\"\"\n",
    "    # Replace this body with your own code.\n",
    "    # (\"pass\" is a keyword that does literally nothing. We used it as a placeholder\n",
    "    # because after we begin a code block, Python requires at least one line of code)\n",
    "    return round(num,2)\n",
    "\n",
    "# Check your answer\n",
    "q1.check()"
   ]
  },
  {
   "cell_type": "code",
   "execution_count": 3,
   "id": "8679b9b4",
   "metadata": {
    "execution": {
     "iopub.execute_input": "2021-08-04T18:16:04.488888Z",
     "iopub.status.busy": "2021-08-04T18:16:04.488223Z",
     "iopub.status.idle": "2021-08-04T18:16:04.493211Z",
     "shell.execute_reply": "2021-08-04T18:16:04.493746Z"
    },
    "papermill": {
     "duration": 0.02417,
     "end_time": "2021-08-04T18:16:04.493918",
     "exception": false,
     "start_time": "2021-08-04T18:16:04.469748",
     "status": "completed"
    },
    "tags": []
   },
   "outputs": [
    {
     "data": {
      "application/javascript": [
       "parent.postMessage({\"jupyterEvent\": \"custom.exercise_interaction\", \"data\": {\"interactionType\": 3, \"questionType\": 2, \"questionId\": \"1_RoundFunctionProblem\", \"learnToolsVersion\": \"0.3.4\", \"valueTowardsCompletion\": 0.0, \"failureMessage\": \"\", \"exceptionClass\": \"\", \"trace\": \"\", \"outcomeType\": 4}}, \"*\")"
      ],
      "text/plain": [
       "<IPython.core.display.Javascript object>"
      ]
     },
     "metadata": {},
     "output_type": "display_data"
    },
    {
     "data": {
      "text/markdown": [
       "<span style=\"color:#33cc99\">Solution:</span> \n",
       "```python\n",
       "return round(num, 2)\n",
       "```"
      ],
      "text/plain": [
       "Solution: \n",
       "```python\n",
       "return round(num, 2)\n",
       "```"
      ]
     },
     "metadata": {},
     "output_type": "display_data"
    }
   ],
   "source": [
    "# Uncomment the following for a hint\n",
    "#q1.hint()\n",
    "# Or uncomment the following to peek at the solution\n",
    "q1.solution()"
   ]
  },
  {
   "cell_type": "markdown",
   "id": "8ac6a7ef",
   "metadata": {
    "papermill": {
     "duration": 0.015193,
     "end_time": "2021-08-04T18:16:04.524643",
     "exception": false,
     "start_time": "2021-08-04T18:16:04.509450",
     "status": "completed"
    },
    "tags": []
   },
   "source": [
    "## 2.\n",
    "The help for `round` says that `ndigits` (the second argument) may be negative.\n",
    "What do you think will happen when it is? Try some examples in the following cell?\n",
    "\n",
    "Can you think of a case where this would be useful?"
   ]
  },
  {
   "cell_type": "code",
   "execution_count": 4,
   "id": "d2bf4c58",
   "metadata": {
    "execution": {
     "iopub.execute_input": "2021-08-04T18:16:04.569169Z",
     "iopub.status.busy": "2021-08-04T18:16:04.568502Z",
     "iopub.status.idle": "2021-08-04T18:16:04.578898Z",
     "shell.execute_reply": "2021-08-04T18:16:04.577977Z",
     "shell.execute_reply.started": "2021-08-04T18:14:12.385686Z"
    },
    "papermill": {
     "duration": 0.035635,
     "end_time": "2021-08-04T18:16:04.579115",
     "exception": false,
     "start_time": "2021-08-04T18:16:04.543480",
     "status": "completed"
    },
    "tags": []
   },
   "outputs": [
    {
     "data": {
      "text/plain": [
       "3"
      ]
     },
     "execution_count": 4,
     "metadata": {},
     "output_type": "execute_result"
    }
   ],
   "source": [
    "round(3.14)"
   ]
  },
  {
   "cell_type": "code",
   "execution_count": 5,
   "id": "d71ad736",
   "metadata": {
    "execution": {
     "iopub.execute_input": "2021-08-04T18:16:04.624918Z",
     "iopub.status.busy": "2021-08-04T18:16:04.624030Z",
     "iopub.status.idle": "2021-08-04T18:16:04.631242Z",
     "shell.execute_reply": "2021-08-04T18:16:04.631747Z"
    },
    "papermill": {
     "duration": 0.03338,
     "end_time": "2021-08-04T18:16:04.631924",
     "exception": false,
     "start_time": "2021-08-04T18:16:04.598544",
     "status": "completed"
    },
    "tags": []
   },
   "outputs": [
    {
     "data": {
      "application/javascript": [
       "parent.postMessage({\"jupyterEvent\": \"custom.exercise_interaction\", \"data\": {\"interactionType\": 3, \"questionType\": 4, \"questionId\": \"2_RoundNdigitsProblem\", \"learnToolsVersion\": \"0.3.4\", \"valueTowardsCompletion\": 0.0, \"failureMessage\": \"\", \"exceptionClass\": \"\", \"trace\": \"\", \"outcomeType\": 4}}, \"*\")"
      ],
      "text/plain": [
       "<IPython.core.display.Javascript object>"
      ]
     },
     "metadata": {},
     "output_type": "display_data"
    },
    {
     "data": {
      "text/markdown": [
       "<span style=\"color:#33cc99\">Solution:</span> As you've seen, `ndigits=-1` rounds to the nearest 10, `ndigits=-2` rounds to the nearest 100 and so on. Where might this be useful? Suppose we're dealing with large numbers:\n",
       "\n",
       "> The area of Finland is 338,424 km²  \n",
       "> The area of Greenland is 2,166,086 km²\n",
       "\n",
       "We probably don't care whether it's really 338,424, or 338,425, or 338,177. All those digits of accuracy are just distracting. We can chop them off by calling `round()` with `ndigits=-3`:\n",
       "\n",
       "> The area of Finland is 338,000 km²  \n",
       "> The area of Greenland is 2,166,000 km²\n",
       "\n",
       "(We'll talk about how we would get the commas later when we talk about string formatting :))\n"
      ],
      "text/plain": [
       "Solution: As you've seen, `ndigits=-1` rounds to the nearest 10, `ndigits=-2` rounds to the nearest 100 and so on. Where might this be useful? Suppose we're dealing with large numbers:\n",
       "\n",
       "> The area of Finland is 338,424 km²  \n",
       "> The area of Greenland is 2,166,086 km²\n",
       "\n",
       "We probably don't care whether it's really 338,424, or 338,425, or 338,177. All those digits of accuracy are just distracting. We can chop them off by calling `round()` with `ndigits=-3`:\n",
       "\n",
       "> The area of Finland is 338,000 km²  \n",
       "> The area of Greenland is 2,166,000 km²\n",
       "\n",
       "(We'll talk about how we would get the commas later when we talk about string formatting :))"
      ]
     },
     "metadata": {},
     "output_type": "display_data"
    }
   ],
   "source": [
    "# Check your answer (Run this code cell to receive credit!)\n",
    "q2.solution()"
   ]
  },
  {
   "cell_type": "markdown",
   "id": "dc5211c8",
   "metadata": {
    "papermill": {
     "duration": 0.018934,
     "end_time": "2021-08-04T18:16:04.667938",
     "exception": false,
     "start_time": "2021-08-04T18:16:04.649004",
     "status": "completed"
    },
    "tags": []
   },
   "source": [
    "## 3.\n",
    "\n",
    "In a previous programming problem, the candy-sharing friends Alice, Bob and Carol tried to split candies evenly. For the sake of their friendship, any candies left over would be smashed. For example, if they collectively bring home 91 candies, they'll take 30 each and smash 1.\n",
    "\n",
    "Below is a simple function that will calculate the number of candies to smash for *any* number of total candies.\n",
    "\n",
    "Modify it so that it optionally takes a second argument representing the number of friends the candies are being split between. If no second argument is provided, it should assume 3 friends, as before.\n",
    "\n",
    "Update the docstring to reflect this new behaviour."
   ]
  },
  {
   "cell_type": "code",
   "execution_count": 6,
   "id": "0e82bf5e",
   "metadata": {
    "execution": {
     "iopub.execute_input": "2021-08-04T18:16:04.707844Z",
     "iopub.status.busy": "2021-08-04T18:16:04.706949Z",
     "iopub.status.idle": "2021-08-04T18:16:04.712554Z",
     "shell.execute_reply": "2021-08-04T18:16:04.712005Z",
     "shell.execute_reply.started": "2021-08-04T18:15:26.666622Z"
    },
    "papermill": {
     "duration": 0.027906,
     "end_time": "2021-08-04T18:16:04.712690",
     "exception": false,
     "start_time": "2021-08-04T18:16:04.684784",
     "status": "completed"
    },
    "tags": []
   },
   "outputs": [
    {
     "data": {
      "application/javascript": [
       "parent.postMessage({\"jupyterEvent\": \"custom.exercise_interaction\", \"data\": {\"outcomeType\": 1, \"valueTowardsCompletion\": 0.16666666666666666, \"interactionType\": 1, \"questionType\": 2, \"questionId\": \"3_CandySmashingFunctionProblem\", \"learnToolsVersion\": \"0.3.4\", \"failureMessage\": \"\", \"exceptionClass\": \"\", \"trace\": \"\"}}, \"*\")"
      ],
      "text/plain": [
       "<IPython.core.display.Javascript object>"
      ]
     },
     "metadata": {},
     "output_type": "display_data"
    },
    {
     "data": {
      "text/markdown": [
       "<span style=\"color:#33cc33\">Correct</span>"
      ],
      "text/plain": [
       "Correct"
      ]
     },
     "metadata": {},
     "output_type": "display_data"
    }
   ],
   "source": [
    "def to_smash(total_candies, friends = 3 ):\n",
    "    \"\"\"Return the number of leftover candies that must be smashed after distributing\n",
    "    the given number of candies evenly between 3 friends.\n",
    "    \n",
    "    >>> to_smash(91)\n",
    "    1\n",
    "    \"\"\"\n",
    "    return total_candies % friends\n",
    "\n",
    "# Check your answer\n",
    "q3.check()"
   ]
  },
  {
   "cell_type": "code",
   "execution_count": 7,
   "id": "8a49f4c0",
   "metadata": {
    "execution": {
     "iopub.execute_input": "2021-08-04T18:16:04.753536Z",
     "iopub.status.busy": "2021-08-04T18:16:04.752769Z",
     "iopub.status.idle": "2021-08-04T18:16:04.758368Z",
     "shell.execute_reply": "2021-08-04T18:16:04.757894Z"
    },
    "papermill": {
     "duration": 0.027994,
     "end_time": "2021-08-04T18:16:04.758543",
     "exception": false,
     "start_time": "2021-08-04T18:16:04.730549",
     "status": "completed"
    },
    "tags": []
   },
   "outputs": [
    {
     "data": {
      "application/javascript": [
       "parent.postMessage({\"jupyterEvent\": \"custom.exercise_interaction\", \"data\": {\"interactionType\": 2, \"questionType\": 2, \"questionId\": \"3_CandySmashingFunctionProblem\", \"learnToolsVersion\": \"0.3.4\", \"valueTowardsCompletion\": 0.0, \"failureMessage\": \"\", \"exceptionClass\": \"\", \"trace\": \"\", \"outcomeType\": 4}}, \"*\")"
      ],
      "text/plain": [
       "<IPython.core.display.Javascript object>"
      ]
     },
     "metadata": {},
     "output_type": "display_data"
    },
    {
     "data": {
      "text/markdown": [
       "<span style=\"color:#3366cc\">Hint:</span> Refer to the section of the last tutorial notebook where we talked about default arguments"
      ],
      "text/plain": [
       "Hint: Refer to the section of the last tutorial notebook where we talked about default arguments"
      ]
     },
     "metadata": {},
     "output_type": "display_data"
    }
   ],
   "source": [
    "q3.hint()"
   ]
  },
  {
   "cell_type": "code",
   "execution_count": 8,
   "id": "22828686",
   "metadata": {
    "execution": {
     "iopub.execute_input": "2021-08-04T18:16:04.802251Z",
     "iopub.status.busy": "2021-08-04T18:16:04.801206Z",
     "iopub.status.idle": "2021-08-04T18:16:04.807079Z",
     "shell.execute_reply": "2021-08-04T18:16:04.806585Z"
    },
    "papermill": {
     "duration": 0.029647,
     "end_time": "2021-08-04T18:16:04.807226",
     "exception": false,
     "start_time": "2021-08-04T18:16:04.777579",
     "status": "completed"
    },
    "tags": []
   },
   "outputs": [
    {
     "data": {
      "application/javascript": [
       "parent.postMessage({\"jupyterEvent\": \"custom.exercise_interaction\", \"data\": {\"interactionType\": 3, \"questionType\": 2, \"questionId\": \"3_CandySmashingFunctionProblem\", \"learnToolsVersion\": \"0.3.4\", \"valueTowardsCompletion\": 0.0, \"failureMessage\": \"\", \"exceptionClass\": \"\", \"trace\": \"\", \"outcomeType\": 4}}, \"*\")"
      ],
      "text/plain": [
       "<IPython.core.display.Javascript object>"
      ]
     },
     "metadata": {},
     "output_type": "display_data"
    },
    {
     "data": {
      "text/markdown": [
       "<span style=\"color:#33cc99\">Solution:</span> \n",
       "```python\n",
       "def to_smash(total_candies, n_friends=3):\n",
       "    return total_candies % n_friends\n",
       "```"
      ],
      "text/plain": [
       "Solution: \n",
       "```python\n",
       "def to_smash(total_candies, n_friends=3):\n",
       "    return total_candies % n_friends\n",
       "```"
      ]
     },
     "metadata": {},
     "output_type": "display_data"
    }
   ],
   "source": [
    "q3.solution()"
   ]
  },
  {
   "cell_type": "markdown",
   "id": "3757e0cb",
   "metadata": {
    "papermill": {
     "duration": 0.020056,
     "end_time": "2021-08-04T18:16:04.847503",
     "exception": false,
     "start_time": "2021-08-04T18:16:04.827447",
     "status": "completed"
    },
    "tags": []
   },
   "source": [
    "## 4. (Optional)\n",
    "\n",
    "It may not be fun, but reading and understanding error messages will be an important part of your Python career.\n",
    "\n",
    "Each code cell below contains some commented-out buggy code. For each cell...\n",
    "\n",
    "1. Read the code and predict what you think will happen when it's run.\n",
    "2. Then uncomment the code and run it to see what happens. (**Tip**: In the kernel editor, you can highlight several lines and press `ctrl`+`/` to toggle commenting.)\n",
    "3. Fix the code (so that it accomplishes its intended purpose without throwing an exception)\n",
    "\n",
    "<!-- TODO: should this be autochecked? Delta is probably pretty small. -->"
   ]
  },
  {
   "cell_type": "code",
   "execution_count": 9,
   "id": "5f541dd7",
   "metadata": {
    "execution": {
     "iopub.execute_input": "2021-08-04T18:16:04.893956Z",
     "iopub.status.busy": "2021-08-04T18:16:04.892887Z",
     "iopub.status.idle": "2021-08-04T18:16:04.895770Z",
     "shell.execute_reply": "2021-08-04T18:16:04.895191Z"
    },
    "papermill": {
     "duration": 0.027696,
     "end_time": "2021-08-04T18:16:04.895906",
     "exception": false,
     "start_time": "2021-08-04T18:16:04.868210",
     "status": "completed"
    },
    "tags": []
   },
   "outputs": [],
   "source": [
    "# ruound_to_two_places(9.9999)"
   ]
  },
  {
   "cell_type": "code",
   "execution_count": 10,
   "id": "6afed4d4",
   "metadata": {
    "execution": {
     "iopub.execute_input": "2021-08-04T18:16:04.940816Z",
     "iopub.status.busy": "2021-08-04T18:16:04.940129Z",
     "iopub.status.idle": "2021-08-04T18:16:04.941968Z",
     "shell.execute_reply": "2021-08-04T18:16:04.942459Z"
    },
    "papermill": {
     "duration": 0.026603,
     "end_time": "2021-08-04T18:16:04.942632",
     "exception": false,
     "start_time": "2021-08-04T18:16:04.916029",
     "status": "completed"
    },
    "tags": []
   },
   "outputs": [],
   "source": [
    "# x = -10\n",
    "# y = 5\n",
    "# # Which of the two variables above has the smallest absolute value?\n",
    "# smallest_abs = min(abs(x, y))"
   ]
  },
  {
   "cell_type": "code",
   "execution_count": 11,
   "id": "ca2aab41",
   "metadata": {
    "execution": {
     "iopub.execute_input": "2021-08-04T18:16:04.986262Z",
     "iopub.status.busy": "2021-08-04T18:16:04.985647Z",
     "iopub.status.idle": "2021-08-04T18:16:04.988710Z",
     "shell.execute_reply": "2021-08-04T18:16:04.989194Z"
    },
    "papermill": {
     "duration": 0.026317,
     "end_time": "2021-08-04T18:16:04.989359",
     "exception": false,
     "start_time": "2021-08-04T18:16:04.963042",
     "status": "completed"
    },
    "tags": []
   },
   "outputs": [],
   "source": [
    "# def f(x):\n",
    "#     y = abs(x)\n",
    "# return y\n",
    "\n",
    "# print(f(5))"
   ]
  },
  {
   "cell_type": "markdown",
   "id": "9d6d1977",
   "metadata": {
    "papermill": {
     "duration": 0.020542,
     "end_time": "2021-08-04T18:16:05.030523",
     "exception": false,
     "start_time": "2021-08-04T18:16:05.009981",
     "status": "completed"
    },
    "tags": []
   },
   "source": [
    "# Keep Going\n",
    "\n",
    "Nice job with the code. Next up, you'll learn about *conditionals*, which you'll need to write interesting programs. Keep going **[here](https://www.kaggle.com/colinmorris/booleans-and-conditionals)**"
   ]
  },
  {
   "cell_type": "markdown",
   "id": "0362d800",
   "metadata": {
    "papermill": {
     "duration": 0.027054,
     "end_time": "2021-08-04T18:16:05.079817",
     "exception": false,
     "start_time": "2021-08-04T18:16:05.052763",
     "status": "completed"
    },
    "tags": []
   },
   "source": [
    "---\n",
    "\n",
    "\n",
    "\n",
    "\n",
    "*Have questions or comments? Visit the [Learn Discussion forum](https://www.kaggle.com/learn-forum/161283) to chat with other Learners.*"
   ]
  }
 ],
 "metadata": {
  "kernelspec": {
   "display_name": "Python 3",
   "language": "python",
   "name": "python3"
  },
  "language_info": {
   "codemirror_mode": {
    "name": "ipython",
    "version": 3
   },
   "file_extension": ".py",
   "mimetype": "text/x-python",
   "name": "python",
   "nbconvert_exporter": "python",
   "pygments_lexer": "ipython3",
   "version": "3.7.10"
  },
  "papermill": {
   "default_parameters": {},
   "duration": 9.631892,
   "end_time": "2021-08-04T18:16:05.712347",
   "environment_variables": {},
   "exception": null,
   "input_path": "__notebook__.ipynb",
   "output_path": "__notebook__.ipynb",
   "parameters": {},
   "start_time": "2021-08-04T18:15:56.080455",
   "version": "2.3.3"
  }
 },
 "nbformat": 4,
 "nbformat_minor": 5
}
