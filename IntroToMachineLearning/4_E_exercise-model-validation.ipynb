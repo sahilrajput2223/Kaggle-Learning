{
 "cells": [
  {
   "cell_type": "markdown",
   "id": "a0e36bc5",
   "metadata": {
    "papermill": {
     "duration": 0.015337,
     "end_time": "2021-08-20T07:30:33.324794",
     "exception": false,
     "start_time": "2021-08-20T07:30:33.309457",
     "status": "completed"
    },
    "tags": []
   },
   "source": [
    "**This notebook is an exercise in the [Introduction to Machine Learning](https://www.kaggle.com/learn/intro-to-machine-learning) course.  You can reference the tutorial at [this link](https://www.kaggle.com/dansbecker/model-validation).**\n",
    "\n",
    "---\n"
   ]
  },
  {
   "cell_type": "markdown",
   "id": "6b985fe3",
   "metadata": {
    "papermill": {
     "duration": 0.01248,
     "end_time": "2021-08-20T07:30:33.352810",
     "exception": false,
     "start_time": "2021-08-20T07:30:33.340330",
     "status": "completed"
    },
    "tags": []
   },
   "source": [
    "## Recap\n",
    "You've built a model. In this exercise you will test how good your model is.\n",
    "\n",
    "Run the cell below to set up your coding environment where the previous exercise left off."
   ]
  },
  {
   "cell_type": "code",
   "execution_count": 1,
   "id": "5582b9f6",
   "metadata": {
    "execution": {
     "iopub.execute_input": "2021-08-20T07:30:33.395517Z",
     "iopub.status.busy": "2021-08-20T07:30:33.388822Z",
     "iopub.status.idle": "2021-08-20T07:30:34.818558Z",
     "shell.execute_reply": "2021-08-20T07:30:34.817415Z",
     "shell.execute_reply.started": "2021-08-20T07:22:09.658959Z"
    },
    "papermill": {
     "duration": 1.452207,
     "end_time": "2021-08-20T07:30:34.818796",
     "exception": false,
     "start_time": "2021-08-20T07:30:33.366589",
     "status": "completed"
    },
    "tags": []
   },
   "outputs": [
    {
     "name": "stdout",
     "output_type": "stream",
     "text": [
      "First in-sample predictions: [208500. 181500. 223500. 140000. 250000.]\n",
      "Actual target values for those homes: [208500, 181500, 223500, 140000, 250000]\n",
      "Setup Complete\n"
     ]
    }
   ],
   "source": [
    "# Code you have previously used to load data\n",
    "import pandas as pd\n",
    "from sklearn.tree import DecisionTreeRegressor\n",
    "\n",
    "# Path of the file to read\n",
    "iowa_file_path = '../input/home-data-for-ml-course/train.csv'\n",
    "\n",
    "home_data = pd.read_csv(iowa_file_path)\n",
    "y = home_data.SalePrice\n",
    "feature_columns = ['LotArea', 'YearBuilt', '1stFlrSF', '2ndFlrSF', 'FullBath', 'BedroomAbvGr', 'TotRmsAbvGrd']\n",
    "X = home_data[feature_columns]\n",
    "\n",
    "# Specify Model\n",
    "iowa_model = DecisionTreeRegressor()\n",
    "# Fit Model\n",
    "iowa_model.fit(X, y)\n",
    "\n",
    "print(\"First in-sample predictions:\", iowa_model.predict(X.head()))\n",
    "print(\"Actual target values for those homes:\", y.head().tolist())\n",
    "\n",
    "# Set up code checking\n",
    "from learntools.core import binder\n",
    "binder.bind(globals())\n",
    "from learntools.machine_learning.ex4 import *\n",
    "print(\"Setup Complete\")"
   ]
  },
  {
   "cell_type": "markdown",
   "id": "8eadbc8a",
   "metadata": {
    "papermill": {
     "duration": 0.018455,
     "end_time": "2021-08-20T07:30:34.854196",
     "exception": false,
     "start_time": "2021-08-20T07:30:34.835741",
     "status": "completed"
    },
    "tags": []
   },
   "source": [
    "# Exercises\n",
    "\n",
    "## Step 1: Split Your Data\n",
    "Use the `train_test_split` function to split up your data.\n",
    "\n",
    "Give it the argument `random_state=1` so the `check` functions know what to expect when verifying your code.\n",
    "\n",
    "Recall, your features are loaded in the DataFrame **X** and your target is loaded in **y**.\n"
   ]
  },
  {
   "cell_type": "code",
   "execution_count": 2,
   "id": "c2fd7d83",
   "metadata": {
    "execution": {
     "iopub.execute_input": "2021-08-20T07:30:34.888089Z",
     "iopub.status.busy": "2021-08-20T07:30:34.886061Z",
     "iopub.status.idle": "2021-08-20T07:30:34.913863Z",
     "shell.execute_reply": "2021-08-20T07:30:34.913315Z",
     "shell.execute_reply.started": "2021-08-20T07:23:51.327776Z"
    },
    "papermill": {
     "duration": 0.046419,
     "end_time": "2021-08-20T07:30:34.914011",
     "exception": false,
     "start_time": "2021-08-20T07:30:34.867592",
     "status": "completed"
    },
    "tags": []
   },
   "outputs": [
    {
     "data": {
      "application/javascript": [
       "parent.postMessage({\"jupyterEvent\": \"custom.exercise_interaction\", \"data\": {\"outcomeType\": 1, \"valueTowardsCompletion\": 0.25, \"interactionType\": 1, \"questionType\": 2, \"questionId\": \"1_SplitData\", \"learnToolsVersion\": \"0.3.4\", \"failureMessage\": \"\", \"exceptionClass\": \"\", \"trace\": \"\"}}, \"*\")"
      ],
      "text/plain": [
       "<IPython.core.display.Javascript object>"
      ]
     },
     "metadata": {},
     "output_type": "display_data"
    },
    {
     "data": {
      "text/markdown": [
       "<span style=\"color:#33cc33\">Correct</span>"
      ],
      "text/plain": [
       "Correct"
      ]
     },
     "metadata": {},
     "output_type": "display_data"
    }
   ],
   "source": [
    "# Import the train_test_split function and uncomment\n",
    "from sklearn.model_selection import train_test_split\n",
    "\n",
    "# fill in and uncomment\n",
    "train_X, val_X, train_y, val_y = train_test_split(X,y,random_state=1)\n",
    "\n",
    "# Check your answer\n",
    "step_1.check()"
   ]
  },
  {
   "cell_type": "code",
   "execution_count": 3,
   "id": "8b51c091",
   "metadata": {
    "execution": {
     "iopub.execute_input": "2021-08-20T07:30:34.946304Z",
     "iopub.status.busy": "2021-08-20T07:30:34.945645Z",
     "iopub.status.idle": "2021-08-20T07:30:34.948202Z",
     "shell.execute_reply": "2021-08-20T07:30:34.948703Z"
    },
    "papermill": {
     "duration": 0.020744,
     "end_time": "2021-08-20T07:30:34.948876",
     "exception": false,
     "start_time": "2021-08-20T07:30:34.928132",
     "status": "completed"
    },
    "tags": []
   },
   "outputs": [],
   "source": [
    "# The lines below will show you a hint or the solution.\n",
    "# step_1.hint() \n",
    "# step_1.solution()\n"
   ]
  },
  {
   "cell_type": "markdown",
   "id": "499d8edc",
   "metadata": {
    "papermill": {
     "duration": 0.014266,
     "end_time": "2021-08-20T07:30:34.977667",
     "exception": false,
     "start_time": "2021-08-20T07:30:34.963401",
     "status": "completed"
    },
    "tags": []
   },
   "source": [
    "## Step 2: Specify and Fit the Model\n",
    "\n",
    "Create a `DecisionTreeRegressor` model and fit it to the relevant data.\n",
    "Set `random_state` to 1 again when creating the model."
   ]
  },
  {
   "cell_type": "code",
   "execution_count": 4,
   "id": "3bb4951d",
   "metadata": {
    "execution": {
     "iopub.execute_input": "2021-08-20T07:30:35.014451Z",
     "iopub.status.busy": "2021-08-20T07:30:35.013767Z",
     "iopub.status.idle": "2021-08-20T07:30:35.040277Z",
     "shell.execute_reply": "2021-08-20T07:30:35.039691Z",
     "shell.execute_reply.started": "2021-08-20T07:26:07.230871Z"
    },
    "papermill": {
     "duration": 0.048087,
     "end_time": "2021-08-20T07:30:35.040418",
     "exception": false,
     "start_time": "2021-08-20T07:30:34.992331",
     "status": "completed"
    },
    "tags": []
   },
   "outputs": [
    {
     "name": "stdout",
     "output_type": "stream",
     "text": [
      "[186500. 184000. 130000.  92000. 164500. 220000. 335000. 144152. 215000.\n",
      " 262000.]\n",
      "[186500. 184000. 130000.  92000. 164500. 220000. 335000. 144152. 215000.\n",
      " 262000.]\n"
     ]
    },
    {
     "data": {
      "application/javascript": [
       "parent.postMessage({\"jupyterEvent\": \"custom.exercise_interaction\", \"data\": {\"outcomeType\": 1, \"valueTowardsCompletion\": 0.25, \"interactionType\": 1, \"questionType\": 2, \"questionId\": \"2_FitModelWithTrain\", \"learnToolsVersion\": \"0.3.4\", \"failureMessage\": \"\", \"exceptionClass\": \"\", \"trace\": \"\"}}, \"*\")"
      ],
      "text/plain": [
       "<IPython.core.display.Javascript object>"
      ]
     },
     "metadata": {},
     "output_type": "display_data"
    },
    {
     "data": {
      "text/markdown": [
       "<span style=\"color:#33cc33\">Correct</span>"
      ],
      "text/plain": [
       "Correct"
      ]
     },
     "metadata": {},
     "output_type": "display_data"
    }
   ],
   "source": [
    "# You imported DecisionTreeRegressor in your last exercise\n",
    "# and that code has been copied to the setup code above. So, no need to\n",
    "# import it again\n",
    "\n",
    "# Specify the model\n",
    "iowa_model = DecisionTreeRegressor(random_state=1)\n",
    "\n",
    "# Fit iowa_model with the training data.\n",
    "iowa_model.fit(train_X,train_y)\n",
    "\n",
    "# Check your answer\n",
    "step_2.check()"
   ]
  },
  {
   "cell_type": "code",
   "execution_count": 5,
   "id": "740de961",
   "metadata": {
    "execution": {
     "iopub.execute_input": "2021-08-20T07:30:35.076454Z",
     "iopub.status.busy": "2021-08-20T07:30:35.075281Z",
     "iopub.status.idle": "2021-08-20T07:30:35.077920Z",
     "shell.execute_reply": "2021-08-20T07:30:35.078384Z"
    },
    "papermill": {
     "duration": 0.022375,
     "end_time": "2021-08-20T07:30:35.078559",
     "exception": false,
     "start_time": "2021-08-20T07:30:35.056184",
     "status": "completed"
    },
    "tags": []
   },
   "outputs": [],
   "source": [
    "# step_2.hint()\n",
    "# step_2.solution()"
   ]
  },
  {
   "cell_type": "markdown",
   "id": "a1b14a70",
   "metadata": {
    "papermill": {
     "duration": 0.015617,
     "end_time": "2021-08-20T07:30:35.109945",
     "exception": false,
     "start_time": "2021-08-20T07:30:35.094328",
     "status": "completed"
    },
    "tags": []
   },
   "source": [
    "## Step 3: Make Predictions with Validation data\n"
   ]
  },
  {
   "cell_type": "code",
   "execution_count": 6,
   "id": "621333b5",
   "metadata": {
    "execution": {
     "iopub.execute_input": "2021-08-20T07:30:35.144935Z",
     "iopub.status.busy": "2021-08-20T07:30:35.143997Z",
     "iopub.status.idle": "2021-08-20T07:30:35.155752Z",
     "shell.execute_reply": "2021-08-20T07:30:35.156291Z",
     "shell.execute_reply.started": "2021-08-20T07:26:39.253188Z"
    },
    "papermill": {
     "duration": 0.030818,
     "end_time": "2021-08-20T07:30:35.156467",
     "exception": false,
     "start_time": "2021-08-20T07:30:35.125649",
     "status": "completed"
    },
    "tags": []
   },
   "outputs": [
    {
     "data": {
      "application/javascript": [
       "parent.postMessage({\"jupyterEvent\": \"custom.exercise_interaction\", \"data\": {\"outcomeType\": 1, \"valueTowardsCompletion\": 0.25, \"interactionType\": 1, \"questionType\": 2, \"questionId\": \"3_ValPreds\", \"learnToolsVersion\": \"0.3.4\", \"failureMessage\": \"\", \"exceptionClass\": \"\", \"trace\": \"\"}}, \"*\")"
      ],
      "text/plain": [
       "<IPython.core.display.Javascript object>"
      ]
     },
     "metadata": {},
     "output_type": "display_data"
    },
    {
     "data": {
      "text/markdown": [
       "<span style=\"color:#33cc33\">Correct</span>"
      ],
      "text/plain": [
       "Correct"
      ]
     },
     "metadata": {},
     "output_type": "display_data"
    }
   ],
   "source": [
    "# Predict with all validation observations\n",
    "val_predictions = iowa_model.predict(val_X)\n",
    "\n",
    "# Check your answer\n",
    "step_3.check()"
   ]
  },
  {
   "cell_type": "code",
   "execution_count": 7,
   "id": "166dbc6d",
   "metadata": {
    "execution": {
     "iopub.execute_input": "2021-08-20T07:30:35.193464Z",
     "iopub.status.busy": "2021-08-20T07:30:35.192552Z",
     "iopub.status.idle": "2021-08-20T07:30:35.195966Z",
     "shell.execute_reply": "2021-08-20T07:30:35.196489Z"
    },
    "papermill": {
     "duration": 0.023444,
     "end_time": "2021-08-20T07:30:35.196661",
     "exception": false,
     "start_time": "2021-08-20T07:30:35.173217",
     "status": "completed"
    },
    "tags": []
   },
   "outputs": [],
   "source": [
    "# step_3.hint()\n",
    "# step_3.solution()"
   ]
  },
  {
   "cell_type": "markdown",
   "id": "7559971e",
   "metadata": {
    "papermill": {
     "duration": 0.016261,
     "end_time": "2021-08-20T07:30:35.229726",
     "exception": false,
     "start_time": "2021-08-20T07:30:35.213465",
     "status": "completed"
    },
    "tags": []
   },
   "source": [
    "Inspect your predictions and actual values from validation data."
   ]
  },
  {
   "cell_type": "code",
   "execution_count": 8,
   "id": "c484ad91",
   "metadata": {
    "execution": {
     "iopub.execute_input": "2021-08-20T07:30:35.268637Z",
     "iopub.status.busy": "2021-08-20T07:30:35.267491Z",
     "iopub.status.idle": "2021-08-20T07:30:35.275844Z",
     "shell.execute_reply": "2021-08-20T07:30:35.275189Z",
     "shell.execute_reply.started": "2021-08-20T07:28:54.543494Z"
    },
    "papermill": {
     "duration": 0.029057,
     "end_time": "2021-08-20T07:30:35.276123",
     "exception": false,
     "start_time": "2021-08-20T07:30:35.247066",
     "status": "completed"
    },
    "tags": []
   },
   "outputs": [
    {
     "name": "stdout",
     "output_type": "stream",
     "text": [
      "[186500. 184000. 130000.  92000. 164500. 220000. 335000. 144152. 215000.\n",
      " 262000.]\n",
      "258     231500\n",
      "267     179500\n",
      "288     122000\n",
      "649      84500\n",
      "1233    142000\n",
      "167     325624\n",
      "926     285000\n",
      "831     151000\n",
      "1237    195000\n",
      "426     275000\n",
      "Name: SalePrice, dtype: int64\n"
     ]
    }
   ],
   "source": [
    "# print the top few validation predictions\n",
    "print(val_predictions[0:10])\n",
    "# print the top few actual prices from validation data\n",
    "print(val_y[0:10])"
   ]
  },
  {
   "cell_type": "markdown",
   "id": "773649cd",
   "metadata": {
    "papermill": {
     "duration": 0.017408,
     "end_time": "2021-08-20T07:30:35.310899",
     "exception": false,
     "start_time": "2021-08-20T07:30:35.293491",
     "status": "completed"
    },
    "tags": []
   },
   "source": [
    "What do you notice that is different from what you saw with in-sample predictions (which are printed after the top code cell in this page).\n",
    "\n",
    "Do you remember why validation predictions differ from in-sample (or training) predictions? This is an important idea from the last lesson.\n",
    "\n",
    "## Step 4: Calculate the Mean Absolute Error in Validation Data\n"
   ]
  },
  {
   "cell_type": "code",
   "execution_count": 9,
   "id": "2dc550ca",
   "metadata": {
    "execution": {
     "iopub.execute_input": "2021-08-20T07:30:35.353761Z",
     "iopub.status.busy": "2021-08-20T07:30:35.352847Z",
     "iopub.status.idle": "2021-08-20T07:30:35.360348Z",
     "shell.execute_reply": "2021-08-20T07:30:35.360880Z",
     "shell.execute_reply.started": "2021-08-20T07:29:58.366693Z"
    },
    "papermill": {
     "duration": 0.032961,
     "end_time": "2021-08-20T07:30:35.361064",
     "exception": false,
     "start_time": "2021-08-20T07:30:35.328103",
     "status": "completed"
    },
    "tags": []
   },
   "outputs": [
    {
     "name": "stdout",
     "output_type": "stream",
     "text": [
      "29652.931506849316\n"
     ]
    },
    {
     "data": {
      "application/javascript": [
       "parent.postMessage({\"jupyterEvent\": \"custom.exercise_interaction\", \"data\": {\"outcomeType\": 1, \"valueTowardsCompletion\": 0.25, \"interactionType\": 1, \"questionType\": 1, \"questionId\": \"4_MAE\", \"learnToolsVersion\": \"0.3.4\", \"failureMessage\": \"\", \"exceptionClass\": \"\", \"trace\": \"\"}}, \"*\")"
      ],
      "text/plain": [
       "<IPython.core.display.Javascript object>"
      ]
     },
     "metadata": {},
     "output_type": "display_data"
    },
    {
     "data": {
      "text/markdown": [
       "<span style=\"color:#33cc33\">Correct</span>"
      ],
      "text/plain": [
       "Correct"
      ]
     },
     "metadata": {},
     "output_type": "display_data"
    }
   ],
   "source": [
    "from sklearn.metrics import mean_absolute_error\n",
    "val_mae = mean_absolute_error(val_y, val_predictions)\n",
    "\n",
    "# uncomment following line to see the validation_mae\n",
    "print(val_mae)\n",
    "\n",
    "# Check your answer\n",
    "step_4.check()"
   ]
  },
  {
   "cell_type": "code",
   "execution_count": 10,
   "id": "30f14e3c",
   "metadata": {
    "execution": {
     "iopub.execute_input": "2021-08-20T07:30:35.404119Z",
     "iopub.status.busy": "2021-08-20T07:30:35.403167Z",
     "iopub.status.idle": "2021-08-20T07:30:35.407056Z",
     "shell.execute_reply": "2021-08-20T07:30:35.406411Z"
    },
    "papermill": {
     "duration": 0.027559,
     "end_time": "2021-08-20T07:30:35.407227",
     "exception": false,
     "start_time": "2021-08-20T07:30:35.379668",
     "status": "completed"
    },
    "tags": []
   },
   "outputs": [],
   "source": [
    "# step_4.hint()\n",
    "# step_4.solution()"
   ]
  },
  {
   "cell_type": "markdown",
   "id": "2c275221",
   "metadata": {
    "papermill": {
     "duration": 0.018869,
     "end_time": "2021-08-20T07:30:35.445000",
     "exception": false,
     "start_time": "2021-08-20T07:30:35.426131",
     "status": "completed"
    },
    "tags": []
   },
   "source": [
    "Is that MAE good?  There isn't a general rule for what values are good that applies across applications. But you'll see how to use (and improve) this number in the next step.\n",
    "\n",
    "# Keep Going\n",
    "\n",
    "You are ready for **[Underfitting and Overfitting](https://www.kaggle.com/dansbecker/underfitting-and-overfitting).**\n"
   ]
  },
  {
   "cell_type": "markdown",
   "id": "4eeb9410",
   "metadata": {
    "papermill": {
     "duration": 0.018358,
     "end_time": "2021-08-20T07:30:35.482484",
     "exception": false,
     "start_time": "2021-08-20T07:30:35.464126",
     "status": "completed"
    },
    "tags": []
   },
   "source": [
    "---\n",
    "\n",
    "\n",
    "\n",
    "\n",
    "*Have questions or comments? Visit the [Learn Discussion forum](https://www.kaggle.com/learn-forum/161285) to chat with other Learners.*"
   ]
  }
 ],
 "metadata": {
  "kernelspec": {
   "display_name": "Python 3",
   "language": "python",
   "name": "python3"
  },
  "language_info": {
   "codemirror_mode": {
    "name": "ipython",
    "version": 3
   },
   "file_extension": ".py",
   "mimetype": "text/x-python",
   "name": "python",
   "nbconvert_exporter": "python",
   "pygments_lexer": "ipython3",
   "version": "3.7.10"
  },
  "papermill": {
   "default_parameters": {},
   "duration": 11.812076,
   "end_time": "2021-08-20T07:30:36.725232",
   "environment_variables": {},
   "exception": null,
   "input_path": "__notebook__.ipynb",
   "output_path": "__notebook__.ipynb",
   "parameters": {},
   "start_time": "2021-08-20T07:30:24.913156",
   "version": "2.3.3"
  }
 },
 "nbformat": 4,
 "nbformat_minor": 5
}
